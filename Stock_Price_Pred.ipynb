{
  "nbformat": 4,
  "nbformat_minor": 0,
  "metadata": {
    "colab": {
      "provenance": [],
      "collapsed_sections": [
        "hplmOnntAwPp"
      ]
    },
    "kernelspec": {
      "name": "python3",
      "display_name": "Python 3"
    },
    "language_info": {
      "name": "python"
    },
    "accelerator": "GPU"
  },
  "cells": [
    {
      "cell_type": "code",
      "source": [
        "import numpy as np\n",
        "import os\n",
        "import random\n",
        "import pandas as pd\n",
        "import tensorflow as tf\n",
        "from tensorflow.keras import layers\n",
        "from tensorflow import keras\n",
        "from tensorflow.keras import backend as K\n",
        "from tensorflow.keras.layers import *\n",
        "import matplotlib.pyplot as plt\n",
        "from tensorflow.keras.models import Model\n",
        "from keras.utils import np_utils\n",
        "from keras.models import load_model\n",
        "from sklearn.preprocessing import MinMaxScaler\n",
        "import matplotlib.pyplot as plt\n",
        "import seaborn as sns\n",
        "import time\n",
        "\n",
        "print(tf.__version__)"
      ],
      "metadata": {
        "colab": {
          "base_uri": "https://localhost:8080/"
        },
        "id": "GU-j94JowgEd",
        "outputId": "91019db7-fbeb-4fc8-9bf8-e1eddbfbe61c"
      },
      "execution_count": null,
      "outputs": [
        {
          "output_type": "stream",
          "name": "stdout",
          "text": [
            "2.8.0\n"
          ]
        }
      ]
    },
    {
      "cell_type": "code",
      "execution_count": null,
      "metadata": {
        "colab": {
          "base_uri": "https://localhost:8080/"
        },
        "id": "cUYook5ysG3b",
        "outputId": "0485a870-56c1-47c3-efe0-815fff9e6b58"
      },
      "outputs": [
        {
          "output_type": "stream",
          "name": "stdout",
          "text": [
            "2.8.0\n"
          ]
        }
      ],
      "source": [
        "import pandas as pd\n",
        "import tensorflow as tf\n",
        "import matplotlib.pyplot as plt\n",
        "import seaborn as sns\n",
        "import numpy as np\n",
        "import numpy\n",
        "from tensorflow.keras.layers import *\n",
        "from tensorflow.keras.models import Model\n",
        "from keras.utils import np_utils\n",
        "from keras.models import load_model\n",
        "from tensorflow import keras\n",
        "import keras\n",
        "import time\n",
        "from google.colab import files\n",
        "from google.colab import drive\n",
        "import csv\n",
        "import re\n",
        "print(tf.__version__)"
      ]
    },
    {
      "cell_type": "code",
      "source": [
        "drive.mount('/content/drive/')"
      ],
      "metadata": {
        "colab": {
          "base_uri": "https://localhost:8080/"
        },
        "id": "PMNH5sRVsQhM",
        "outputId": "49b0986b-b7e8-46f1-d452-5e99e27e4110"
      },
      "execution_count": null,
      "outputs": [
        {
          "output_type": "stream",
          "name": "stdout",
          "text": [
            "Mounted at /content/drive/\n"
          ]
        }
      ]
    },
    {
      "cell_type": "code",
      "source": [
        "path = '/content/drive/MyDrive/Stock_data/dataset/BPCL.csv'"
      ],
      "metadata": {
        "id": "_78kwIxFsy-p"
      },
      "execution_count": null,
      "outputs": []
    },
    {
      "cell_type": "markdown",
      "source": [
        "#Dataset Prep"
      ],
      "metadata": {
        "id": "MOEn0Jiv7kvf"
      }
    },
    {
      "cell_type": "code",
      "source": [
        "df = pd.read_csv(path)\n",
        "print(df.shape)"
      ],
      "metadata": {
        "colab": {
          "base_uri": "https://localhost:8080/"
        },
        "id": "OOuC7Esas2YQ",
        "outputId": "2d808781-ff90-425f-ef02-33291287d65e"
      },
      "execution_count": null,
      "outputs": [
        {
          "output_type": "stream",
          "name": "stdout",
          "text": [
            "(5306, 15)\n"
          ]
        }
      ]
    },
    {
      "cell_type": "code",
      "source": [
        "df = pd.read_csv(path)\n",
        "#df.to_csv('test_dataset.csv')\n",
        "print(df.shape)"
      ],
      "metadata": {
        "colab": {
          "base_uri": "https://localhost:8080/"
        },
        "id": "u2p4INqHtDdA",
        "outputId": "d4c9fb77-e1ee-4c7a-f00b-cd9c66ba5801"
      },
      "execution_count": null,
      "outputs": [
        {
          "output_type": "stream",
          "name": "stdout",
          "text": [
            "(5306, 15)\n"
          ]
        }
      ]
    },
    {
      "cell_type": "code",
      "source": [
        "df.head()"
      ],
      "metadata": {
        "colab": {
          "base_uri": "https://localhost:8080/",
          "height": 206
        },
        "id": "o4Ab6Fo7tG7q",
        "outputId": "c2ec2098-9cdb-41f5-84e1-0f7f5509e74d"
      },
      "execution_count": null,
      "outputs": [
        {
          "output_type": "execute_result",
          "data": {
            "text/plain": [
              "         Date Symbol Series  Prev Close    Open    High     Low    Last  \\\n",
              "0  2000-01-03   BPCL     EQ      381.20  405.00  407.00  393.05  397.75   \n",
              "1  2000-01-04   BPCL     EQ      399.25  397.75  397.75  367.40  377.45   \n",
              "2  2000-01-05   BPCL     EQ      370.50  350.00  385.00  350.00  360.10   \n",
              "3  2000-01-06   BPCL     EQ      359.95  362.00  384.00  362.00  381.65   \n",
              "4  2000-01-07   BPCL     EQ      380.30  369.00  390.00  366.00  381.50   \n",
              "\n",
              "    Close    VWAP  Volume      Turnover  Trades  Deliverable Volume  \\\n",
              "0  399.25  399.32    8720  3.482029e+11     NaN                 NaN   \n",
              "1  370.50  375.71   22820  8.573699e+11     NaN                 NaN   \n",
              "2  359.95  359.96  152538  5.490785e+12     NaN                 NaN   \n",
              "3  380.30  380.10   59554  2.263623e+12     NaN                 NaN   \n",
              "4  379.85  378.33   43187  1.633890e+12     NaN                 NaN   \n",
              "\n",
              "   %Deliverble  \n",
              "0          NaN  \n",
              "1          NaN  \n",
              "2          NaN  \n",
              "3          NaN  \n",
              "4          NaN  "
            ],
            "text/html": [
              "\n",
              "  <div id=\"df-bfc4789f-7866-47d9-b97a-d1e7fbfd096e\">\n",
              "    <div class=\"colab-df-container\">\n",
              "      <div>\n",
              "<style scoped>\n",
              "    .dataframe tbody tr th:only-of-type {\n",
              "        vertical-align: middle;\n",
              "    }\n",
              "\n",
              "    .dataframe tbody tr th {\n",
              "        vertical-align: top;\n",
              "    }\n",
              "\n",
              "    .dataframe thead th {\n",
              "        text-align: right;\n",
              "    }\n",
              "</style>\n",
              "<table border=\"1\" class=\"dataframe\">\n",
              "  <thead>\n",
              "    <tr style=\"text-align: right;\">\n",
              "      <th></th>\n",
              "      <th>Date</th>\n",
              "      <th>Symbol</th>\n",
              "      <th>Series</th>\n",
              "      <th>Prev Close</th>\n",
              "      <th>Open</th>\n",
              "      <th>High</th>\n",
              "      <th>Low</th>\n",
              "      <th>Last</th>\n",
              "      <th>Close</th>\n",
              "      <th>VWAP</th>\n",
              "      <th>Volume</th>\n",
              "      <th>Turnover</th>\n",
              "      <th>Trades</th>\n",
              "      <th>Deliverable Volume</th>\n",
              "      <th>%Deliverble</th>\n",
              "    </tr>\n",
              "  </thead>\n",
              "  <tbody>\n",
              "    <tr>\n",
              "      <th>0</th>\n",
              "      <td>2000-01-03</td>\n",
              "      <td>BPCL</td>\n",
              "      <td>EQ</td>\n",
              "      <td>381.20</td>\n",
              "      <td>405.00</td>\n",
              "      <td>407.00</td>\n",
              "      <td>393.05</td>\n",
              "      <td>397.75</td>\n",
              "      <td>399.25</td>\n",
              "      <td>399.32</td>\n",
              "      <td>8720</td>\n",
              "      <td>3.482029e+11</td>\n",
              "      <td>NaN</td>\n",
              "      <td>NaN</td>\n",
              "      <td>NaN</td>\n",
              "    </tr>\n",
              "    <tr>\n",
              "      <th>1</th>\n",
              "      <td>2000-01-04</td>\n",
              "      <td>BPCL</td>\n",
              "      <td>EQ</td>\n",
              "      <td>399.25</td>\n",
              "      <td>397.75</td>\n",
              "      <td>397.75</td>\n",
              "      <td>367.40</td>\n",
              "      <td>377.45</td>\n",
              "      <td>370.50</td>\n",
              "      <td>375.71</td>\n",
              "      <td>22820</td>\n",
              "      <td>8.573699e+11</td>\n",
              "      <td>NaN</td>\n",
              "      <td>NaN</td>\n",
              "      <td>NaN</td>\n",
              "    </tr>\n",
              "    <tr>\n",
              "      <th>2</th>\n",
              "      <td>2000-01-05</td>\n",
              "      <td>BPCL</td>\n",
              "      <td>EQ</td>\n",
              "      <td>370.50</td>\n",
              "      <td>350.00</td>\n",
              "      <td>385.00</td>\n",
              "      <td>350.00</td>\n",
              "      <td>360.10</td>\n",
              "      <td>359.95</td>\n",
              "      <td>359.96</td>\n",
              "      <td>152538</td>\n",
              "      <td>5.490785e+12</td>\n",
              "      <td>NaN</td>\n",
              "      <td>NaN</td>\n",
              "      <td>NaN</td>\n",
              "    </tr>\n",
              "    <tr>\n",
              "      <th>3</th>\n",
              "      <td>2000-01-06</td>\n",
              "      <td>BPCL</td>\n",
              "      <td>EQ</td>\n",
              "      <td>359.95</td>\n",
              "      <td>362.00</td>\n",
              "      <td>384.00</td>\n",
              "      <td>362.00</td>\n",
              "      <td>381.65</td>\n",
              "      <td>380.30</td>\n",
              "      <td>380.10</td>\n",
              "      <td>59554</td>\n",
              "      <td>2.263623e+12</td>\n",
              "      <td>NaN</td>\n",
              "      <td>NaN</td>\n",
              "      <td>NaN</td>\n",
              "    </tr>\n",
              "    <tr>\n",
              "      <th>4</th>\n",
              "      <td>2000-01-07</td>\n",
              "      <td>BPCL</td>\n",
              "      <td>EQ</td>\n",
              "      <td>380.30</td>\n",
              "      <td>369.00</td>\n",
              "      <td>390.00</td>\n",
              "      <td>366.00</td>\n",
              "      <td>381.50</td>\n",
              "      <td>379.85</td>\n",
              "      <td>378.33</td>\n",
              "      <td>43187</td>\n",
              "      <td>1.633890e+12</td>\n",
              "      <td>NaN</td>\n",
              "      <td>NaN</td>\n",
              "      <td>NaN</td>\n",
              "    </tr>\n",
              "  </tbody>\n",
              "</table>\n",
              "</div>\n",
              "      <button class=\"colab-df-convert\" onclick=\"convertToInteractive('df-bfc4789f-7866-47d9-b97a-d1e7fbfd096e')\"\n",
              "              title=\"Convert this dataframe to an interactive table.\"\n",
              "              style=\"display:none;\">\n",
              "        \n",
              "  <svg xmlns=\"http://www.w3.org/2000/svg\" height=\"24px\"viewBox=\"0 0 24 24\"\n",
              "       width=\"24px\">\n",
              "    <path d=\"M0 0h24v24H0V0z\" fill=\"none\"/>\n",
              "    <path d=\"M18.56 5.44l.94 2.06.94-2.06 2.06-.94-2.06-.94-.94-2.06-.94 2.06-2.06.94zm-11 1L8.5 8.5l.94-2.06 2.06-.94-2.06-.94L8.5 2.5l-.94 2.06-2.06.94zm10 10l.94 2.06.94-2.06 2.06-.94-2.06-.94-.94-2.06-.94 2.06-2.06.94z\"/><path d=\"M17.41 7.96l-1.37-1.37c-.4-.4-.92-.59-1.43-.59-.52 0-1.04.2-1.43.59L10.3 9.45l-7.72 7.72c-.78.78-.78 2.05 0 2.83L4 21.41c.39.39.9.59 1.41.59.51 0 1.02-.2 1.41-.59l7.78-7.78 2.81-2.81c.8-.78.8-2.07 0-2.86zM5.41 20L4 18.59l7.72-7.72 1.47 1.35L5.41 20z\"/>\n",
              "  </svg>\n",
              "      </button>\n",
              "      \n",
              "  <style>\n",
              "    .colab-df-container {\n",
              "      display:flex;\n",
              "      flex-wrap:wrap;\n",
              "      gap: 12px;\n",
              "    }\n",
              "\n",
              "    .colab-df-convert {\n",
              "      background-color: #E8F0FE;\n",
              "      border: none;\n",
              "      border-radius: 50%;\n",
              "      cursor: pointer;\n",
              "      display: none;\n",
              "      fill: #1967D2;\n",
              "      height: 32px;\n",
              "      padding: 0 0 0 0;\n",
              "      width: 32px;\n",
              "    }\n",
              "\n",
              "    .colab-df-convert:hover {\n",
              "      background-color: #E2EBFA;\n",
              "      box-shadow: 0px 1px 2px rgba(60, 64, 67, 0.3), 0px 1px 3px 1px rgba(60, 64, 67, 0.15);\n",
              "      fill: #174EA6;\n",
              "    }\n",
              "\n",
              "    [theme=dark] .colab-df-convert {\n",
              "      background-color: #3B4455;\n",
              "      fill: #D2E3FC;\n",
              "    }\n",
              "\n",
              "    [theme=dark] .colab-df-convert:hover {\n",
              "      background-color: #434B5C;\n",
              "      box-shadow: 0px 1px 3px 1px rgba(0, 0, 0, 0.15);\n",
              "      filter: drop-shadow(0px 1px 2px rgba(0, 0, 0, 0.3));\n",
              "      fill: #FFFFFF;\n",
              "    }\n",
              "  </style>\n",
              "\n",
              "      <script>\n",
              "        const buttonEl =\n",
              "          document.querySelector('#df-bfc4789f-7866-47d9-b97a-d1e7fbfd096e button.colab-df-convert');\n",
              "        buttonEl.style.display =\n",
              "          google.colab.kernel.accessAllowed ? 'block' : 'none';\n",
              "\n",
              "        async function convertToInteractive(key) {\n",
              "          const element = document.querySelector('#df-bfc4789f-7866-47d9-b97a-d1e7fbfd096e');\n",
              "          const dataTable =\n",
              "            await google.colab.kernel.invokeFunction('convertToInteractive',\n",
              "                                                     [key], {});\n",
              "          if (!dataTable) return;\n",
              "\n",
              "          const docLinkHtml = 'Like what you see? Visit the ' +\n",
              "            '<a target=\"_blank\" href=https://colab.research.google.com/notebooks/data_table.ipynb>data table notebook</a>'\n",
              "            + ' to learn more about interactive tables.';\n",
              "          element.innerHTML = '';\n",
              "          dataTable['output_type'] = 'display_data';\n",
              "          await google.colab.output.renderOutput(dataTable, element);\n",
              "          const docLink = document.createElement('div');\n",
              "          docLink.innerHTML = docLinkHtml;\n",
              "          element.appendChild(docLink);\n",
              "        }\n",
              "      </script>\n",
              "    </div>\n",
              "  </div>\n",
              "  "
            ]
          },
          "metadata": {},
          "execution_count": 8
        }
      ]
    },
    {
      "cell_type": "code",
      "source": [
        "df.to_csv('test_dataset.csv')"
      ],
      "metadata": {
        "id": "5kQxOQ6qtrXA"
      },
      "execution_count": null,
      "outputs": []
    },
    {
      "cell_type": "code",
      "source": [
        "df1 = pd.read_csv('test_dataset.csv')\n",
        "df1.head()"
      ],
      "metadata": {
        "colab": {
          "base_uri": "https://localhost:8080/",
          "height": 206
        },
        "id": "dUeFDnrZtfak",
        "outputId": "54f6df72-c1b8-41cf-a272-f0f50c84c0b9"
      },
      "execution_count": null,
      "outputs": [
        {
          "output_type": "execute_result",
          "data": {
            "text/plain": [
              "   Unnamed: 0        Date Symbol Series  Prev Close    Open    High     Low  \\\n",
              "0           0  2000-01-03   BPCL     EQ      381.20  405.00  407.00  393.05   \n",
              "1           1  2000-01-04   BPCL     EQ      399.25  397.75  397.75  367.40   \n",
              "2           2  2000-01-05   BPCL     EQ      370.50  350.00  385.00  350.00   \n",
              "3           3  2000-01-06   BPCL     EQ      359.95  362.00  384.00  362.00   \n",
              "4           4  2000-01-07   BPCL     EQ      380.30  369.00  390.00  366.00   \n",
              "\n",
              "     Last   Close    VWAP  Volume      Turnover  Trades  Deliverable Volume  \\\n",
              "0  397.75  399.25  399.32    8720  3.482029e+11     NaN                 NaN   \n",
              "1  377.45  370.50  375.71   22820  8.573699e+11     NaN                 NaN   \n",
              "2  360.10  359.95  359.96  152538  5.490785e+12     NaN                 NaN   \n",
              "3  381.65  380.30  380.10   59554  2.263623e+12     NaN                 NaN   \n",
              "4  381.50  379.85  378.33   43187  1.633890e+12     NaN                 NaN   \n",
              "\n",
              "   %Deliverble  \n",
              "0          NaN  \n",
              "1          NaN  \n",
              "2          NaN  \n",
              "3          NaN  \n",
              "4          NaN  "
            ],
            "text/html": [
              "\n",
              "  <div id=\"df-e16f38c5-a86e-438c-ba48-25ec2ae5c3bf\">\n",
              "    <div class=\"colab-df-container\">\n",
              "      <div>\n",
              "<style scoped>\n",
              "    .dataframe tbody tr th:only-of-type {\n",
              "        vertical-align: middle;\n",
              "    }\n",
              "\n",
              "    .dataframe tbody tr th {\n",
              "        vertical-align: top;\n",
              "    }\n",
              "\n",
              "    .dataframe thead th {\n",
              "        text-align: right;\n",
              "    }\n",
              "</style>\n",
              "<table border=\"1\" class=\"dataframe\">\n",
              "  <thead>\n",
              "    <tr style=\"text-align: right;\">\n",
              "      <th></th>\n",
              "      <th>Unnamed: 0</th>\n",
              "      <th>Date</th>\n",
              "      <th>Symbol</th>\n",
              "      <th>Series</th>\n",
              "      <th>Prev Close</th>\n",
              "      <th>Open</th>\n",
              "      <th>High</th>\n",
              "      <th>Low</th>\n",
              "      <th>Last</th>\n",
              "      <th>Close</th>\n",
              "      <th>VWAP</th>\n",
              "      <th>Volume</th>\n",
              "      <th>Turnover</th>\n",
              "      <th>Trades</th>\n",
              "      <th>Deliverable Volume</th>\n",
              "      <th>%Deliverble</th>\n",
              "    </tr>\n",
              "  </thead>\n",
              "  <tbody>\n",
              "    <tr>\n",
              "      <th>0</th>\n",
              "      <td>0</td>\n",
              "      <td>2000-01-03</td>\n",
              "      <td>BPCL</td>\n",
              "      <td>EQ</td>\n",
              "      <td>381.20</td>\n",
              "      <td>405.00</td>\n",
              "      <td>407.00</td>\n",
              "      <td>393.05</td>\n",
              "      <td>397.75</td>\n",
              "      <td>399.25</td>\n",
              "      <td>399.32</td>\n",
              "      <td>8720</td>\n",
              "      <td>3.482029e+11</td>\n",
              "      <td>NaN</td>\n",
              "      <td>NaN</td>\n",
              "      <td>NaN</td>\n",
              "    </tr>\n",
              "    <tr>\n",
              "      <th>1</th>\n",
              "      <td>1</td>\n",
              "      <td>2000-01-04</td>\n",
              "      <td>BPCL</td>\n",
              "      <td>EQ</td>\n",
              "      <td>399.25</td>\n",
              "      <td>397.75</td>\n",
              "      <td>397.75</td>\n",
              "      <td>367.40</td>\n",
              "      <td>377.45</td>\n",
              "      <td>370.50</td>\n",
              "      <td>375.71</td>\n",
              "      <td>22820</td>\n",
              "      <td>8.573699e+11</td>\n",
              "      <td>NaN</td>\n",
              "      <td>NaN</td>\n",
              "      <td>NaN</td>\n",
              "    </tr>\n",
              "    <tr>\n",
              "      <th>2</th>\n",
              "      <td>2</td>\n",
              "      <td>2000-01-05</td>\n",
              "      <td>BPCL</td>\n",
              "      <td>EQ</td>\n",
              "      <td>370.50</td>\n",
              "      <td>350.00</td>\n",
              "      <td>385.00</td>\n",
              "      <td>350.00</td>\n",
              "      <td>360.10</td>\n",
              "      <td>359.95</td>\n",
              "      <td>359.96</td>\n",
              "      <td>152538</td>\n",
              "      <td>5.490785e+12</td>\n",
              "      <td>NaN</td>\n",
              "      <td>NaN</td>\n",
              "      <td>NaN</td>\n",
              "    </tr>\n",
              "    <tr>\n",
              "      <th>3</th>\n",
              "      <td>3</td>\n",
              "      <td>2000-01-06</td>\n",
              "      <td>BPCL</td>\n",
              "      <td>EQ</td>\n",
              "      <td>359.95</td>\n",
              "      <td>362.00</td>\n",
              "      <td>384.00</td>\n",
              "      <td>362.00</td>\n",
              "      <td>381.65</td>\n",
              "      <td>380.30</td>\n",
              "      <td>380.10</td>\n",
              "      <td>59554</td>\n",
              "      <td>2.263623e+12</td>\n",
              "      <td>NaN</td>\n",
              "      <td>NaN</td>\n",
              "      <td>NaN</td>\n",
              "    </tr>\n",
              "    <tr>\n",
              "      <th>4</th>\n",
              "      <td>4</td>\n",
              "      <td>2000-01-07</td>\n",
              "      <td>BPCL</td>\n",
              "      <td>EQ</td>\n",
              "      <td>380.30</td>\n",
              "      <td>369.00</td>\n",
              "      <td>390.00</td>\n",
              "      <td>366.00</td>\n",
              "      <td>381.50</td>\n",
              "      <td>379.85</td>\n",
              "      <td>378.33</td>\n",
              "      <td>43187</td>\n",
              "      <td>1.633890e+12</td>\n",
              "      <td>NaN</td>\n",
              "      <td>NaN</td>\n",
              "      <td>NaN</td>\n",
              "    </tr>\n",
              "  </tbody>\n",
              "</table>\n",
              "</div>\n",
              "      <button class=\"colab-df-convert\" onclick=\"convertToInteractive('df-e16f38c5-a86e-438c-ba48-25ec2ae5c3bf')\"\n",
              "              title=\"Convert this dataframe to an interactive table.\"\n",
              "              style=\"display:none;\">\n",
              "        \n",
              "  <svg xmlns=\"http://www.w3.org/2000/svg\" height=\"24px\"viewBox=\"0 0 24 24\"\n",
              "       width=\"24px\">\n",
              "    <path d=\"M0 0h24v24H0V0z\" fill=\"none\"/>\n",
              "    <path d=\"M18.56 5.44l.94 2.06.94-2.06 2.06-.94-2.06-.94-.94-2.06-.94 2.06-2.06.94zm-11 1L8.5 8.5l.94-2.06 2.06-.94-2.06-.94L8.5 2.5l-.94 2.06-2.06.94zm10 10l.94 2.06.94-2.06 2.06-.94-2.06-.94-.94-2.06-.94 2.06-2.06.94z\"/><path d=\"M17.41 7.96l-1.37-1.37c-.4-.4-.92-.59-1.43-.59-.52 0-1.04.2-1.43.59L10.3 9.45l-7.72 7.72c-.78.78-.78 2.05 0 2.83L4 21.41c.39.39.9.59 1.41.59.51 0 1.02-.2 1.41-.59l7.78-7.78 2.81-2.81c.8-.78.8-2.07 0-2.86zM5.41 20L4 18.59l7.72-7.72 1.47 1.35L5.41 20z\"/>\n",
              "  </svg>\n",
              "      </button>\n",
              "      \n",
              "  <style>\n",
              "    .colab-df-container {\n",
              "      display:flex;\n",
              "      flex-wrap:wrap;\n",
              "      gap: 12px;\n",
              "    }\n",
              "\n",
              "    .colab-df-convert {\n",
              "      background-color: #E8F0FE;\n",
              "      border: none;\n",
              "      border-radius: 50%;\n",
              "      cursor: pointer;\n",
              "      display: none;\n",
              "      fill: #1967D2;\n",
              "      height: 32px;\n",
              "      padding: 0 0 0 0;\n",
              "      width: 32px;\n",
              "    }\n",
              "\n",
              "    .colab-df-convert:hover {\n",
              "      background-color: #E2EBFA;\n",
              "      box-shadow: 0px 1px 2px rgba(60, 64, 67, 0.3), 0px 1px 3px 1px rgba(60, 64, 67, 0.15);\n",
              "      fill: #174EA6;\n",
              "    }\n",
              "\n",
              "    [theme=dark] .colab-df-convert {\n",
              "      background-color: #3B4455;\n",
              "      fill: #D2E3FC;\n",
              "    }\n",
              "\n",
              "    [theme=dark] .colab-df-convert:hover {\n",
              "      background-color: #434B5C;\n",
              "      box-shadow: 0px 1px 3px 1px rgba(0, 0, 0, 0.15);\n",
              "      filter: drop-shadow(0px 1px 2px rgba(0, 0, 0, 0.3));\n",
              "      fill: #FFFFFF;\n",
              "    }\n",
              "  </style>\n",
              "\n",
              "      <script>\n",
              "        const buttonEl =\n",
              "          document.querySelector('#df-e16f38c5-a86e-438c-ba48-25ec2ae5c3bf button.colab-df-convert');\n",
              "        buttonEl.style.display =\n",
              "          google.colab.kernel.accessAllowed ? 'block' : 'none';\n",
              "\n",
              "        async function convertToInteractive(key) {\n",
              "          const element = document.querySelector('#df-e16f38c5-a86e-438c-ba48-25ec2ae5c3bf');\n",
              "          const dataTable =\n",
              "            await google.colab.kernel.invokeFunction('convertToInteractive',\n",
              "                                                     [key], {});\n",
              "          if (!dataTable) return;\n",
              "\n",
              "          const docLinkHtml = 'Like what you see? Visit the ' +\n",
              "            '<a target=\"_blank\" href=https://colab.research.google.com/notebooks/data_table.ipynb>data table notebook</a>'\n",
              "            + ' to learn more about interactive tables.';\n",
              "          element.innerHTML = '';\n",
              "          dataTable['output_type'] = 'display_data';\n",
              "          await google.colab.output.renderOutput(dataTable, element);\n",
              "          const docLink = document.createElement('div');\n",
              "          docLink.innerHTML = docLinkHtml;\n",
              "          element.appendChild(docLink);\n",
              "        }\n",
              "      </script>\n",
              "    </div>\n",
              "  </div>\n",
              "  "
            ]
          },
          "metadata": {},
          "execution_count": 10
        }
      ]
    },
    {
      "cell_type": "code",
      "source": [
        "df1.rename(columns={'Unnamed: 0':'time'}, inplace=True)"
      ],
      "metadata": {
        "id": "jxx-KzhDt29x"
      },
      "execution_count": null,
      "outputs": []
    },
    {
      "cell_type": "code",
      "source": [
        "df1.head()"
      ],
      "metadata": {
        "colab": {
          "base_uri": "https://localhost:8080/",
          "height": 206
        },
        "id": "O_e1-643t_rv",
        "outputId": "a6c11e19-2002-4887-a01a-c8e5dcf2eb17"
      },
      "execution_count": null,
      "outputs": [
        {
          "output_type": "execute_result",
          "data": {
            "text/plain": [
              "   time        Date Symbol Series  Prev Close    Open    High     Low    Last  \\\n",
              "0     0  2000-01-03   BPCL     EQ      381.20  405.00  407.00  393.05  397.75   \n",
              "1     1  2000-01-04   BPCL     EQ      399.25  397.75  397.75  367.40  377.45   \n",
              "2     2  2000-01-05   BPCL     EQ      370.50  350.00  385.00  350.00  360.10   \n",
              "3     3  2000-01-06   BPCL     EQ      359.95  362.00  384.00  362.00  381.65   \n",
              "4     4  2000-01-07   BPCL     EQ      380.30  369.00  390.00  366.00  381.50   \n",
              "\n",
              "    Close    VWAP  Volume      Turnover  Trades  Deliverable Volume  \\\n",
              "0  399.25  399.32    8720  3.482029e+11     NaN                 NaN   \n",
              "1  370.50  375.71   22820  8.573699e+11     NaN                 NaN   \n",
              "2  359.95  359.96  152538  5.490785e+12     NaN                 NaN   \n",
              "3  380.30  380.10   59554  2.263623e+12     NaN                 NaN   \n",
              "4  379.85  378.33   43187  1.633890e+12     NaN                 NaN   \n",
              "\n",
              "   %Deliverble  \n",
              "0          NaN  \n",
              "1          NaN  \n",
              "2          NaN  \n",
              "3          NaN  \n",
              "4          NaN  "
            ],
            "text/html": [
              "\n",
              "  <div id=\"df-6e9f4967-2bed-4cfb-ac58-94df1d046a04\">\n",
              "    <div class=\"colab-df-container\">\n",
              "      <div>\n",
              "<style scoped>\n",
              "    .dataframe tbody tr th:only-of-type {\n",
              "        vertical-align: middle;\n",
              "    }\n",
              "\n",
              "    .dataframe tbody tr th {\n",
              "        vertical-align: top;\n",
              "    }\n",
              "\n",
              "    .dataframe thead th {\n",
              "        text-align: right;\n",
              "    }\n",
              "</style>\n",
              "<table border=\"1\" class=\"dataframe\">\n",
              "  <thead>\n",
              "    <tr style=\"text-align: right;\">\n",
              "      <th></th>\n",
              "      <th>time</th>\n",
              "      <th>Date</th>\n",
              "      <th>Symbol</th>\n",
              "      <th>Series</th>\n",
              "      <th>Prev Close</th>\n",
              "      <th>Open</th>\n",
              "      <th>High</th>\n",
              "      <th>Low</th>\n",
              "      <th>Last</th>\n",
              "      <th>Close</th>\n",
              "      <th>VWAP</th>\n",
              "      <th>Volume</th>\n",
              "      <th>Turnover</th>\n",
              "      <th>Trades</th>\n",
              "      <th>Deliverable Volume</th>\n",
              "      <th>%Deliverble</th>\n",
              "    </tr>\n",
              "  </thead>\n",
              "  <tbody>\n",
              "    <tr>\n",
              "      <th>0</th>\n",
              "      <td>0</td>\n",
              "      <td>2000-01-03</td>\n",
              "      <td>BPCL</td>\n",
              "      <td>EQ</td>\n",
              "      <td>381.20</td>\n",
              "      <td>405.00</td>\n",
              "      <td>407.00</td>\n",
              "      <td>393.05</td>\n",
              "      <td>397.75</td>\n",
              "      <td>399.25</td>\n",
              "      <td>399.32</td>\n",
              "      <td>8720</td>\n",
              "      <td>3.482029e+11</td>\n",
              "      <td>NaN</td>\n",
              "      <td>NaN</td>\n",
              "      <td>NaN</td>\n",
              "    </tr>\n",
              "    <tr>\n",
              "      <th>1</th>\n",
              "      <td>1</td>\n",
              "      <td>2000-01-04</td>\n",
              "      <td>BPCL</td>\n",
              "      <td>EQ</td>\n",
              "      <td>399.25</td>\n",
              "      <td>397.75</td>\n",
              "      <td>397.75</td>\n",
              "      <td>367.40</td>\n",
              "      <td>377.45</td>\n",
              "      <td>370.50</td>\n",
              "      <td>375.71</td>\n",
              "      <td>22820</td>\n",
              "      <td>8.573699e+11</td>\n",
              "      <td>NaN</td>\n",
              "      <td>NaN</td>\n",
              "      <td>NaN</td>\n",
              "    </tr>\n",
              "    <tr>\n",
              "      <th>2</th>\n",
              "      <td>2</td>\n",
              "      <td>2000-01-05</td>\n",
              "      <td>BPCL</td>\n",
              "      <td>EQ</td>\n",
              "      <td>370.50</td>\n",
              "      <td>350.00</td>\n",
              "      <td>385.00</td>\n",
              "      <td>350.00</td>\n",
              "      <td>360.10</td>\n",
              "      <td>359.95</td>\n",
              "      <td>359.96</td>\n",
              "      <td>152538</td>\n",
              "      <td>5.490785e+12</td>\n",
              "      <td>NaN</td>\n",
              "      <td>NaN</td>\n",
              "      <td>NaN</td>\n",
              "    </tr>\n",
              "    <tr>\n",
              "      <th>3</th>\n",
              "      <td>3</td>\n",
              "      <td>2000-01-06</td>\n",
              "      <td>BPCL</td>\n",
              "      <td>EQ</td>\n",
              "      <td>359.95</td>\n",
              "      <td>362.00</td>\n",
              "      <td>384.00</td>\n",
              "      <td>362.00</td>\n",
              "      <td>381.65</td>\n",
              "      <td>380.30</td>\n",
              "      <td>380.10</td>\n",
              "      <td>59554</td>\n",
              "      <td>2.263623e+12</td>\n",
              "      <td>NaN</td>\n",
              "      <td>NaN</td>\n",
              "      <td>NaN</td>\n",
              "    </tr>\n",
              "    <tr>\n",
              "      <th>4</th>\n",
              "      <td>4</td>\n",
              "      <td>2000-01-07</td>\n",
              "      <td>BPCL</td>\n",
              "      <td>EQ</td>\n",
              "      <td>380.30</td>\n",
              "      <td>369.00</td>\n",
              "      <td>390.00</td>\n",
              "      <td>366.00</td>\n",
              "      <td>381.50</td>\n",
              "      <td>379.85</td>\n",
              "      <td>378.33</td>\n",
              "      <td>43187</td>\n",
              "      <td>1.633890e+12</td>\n",
              "      <td>NaN</td>\n",
              "      <td>NaN</td>\n",
              "      <td>NaN</td>\n",
              "    </tr>\n",
              "  </tbody>\n",
              "</table>\n",
              "</div>\n",
              "      <button class=\"colab-df-convert\" onclick=\"convertToInteractive('df-6e9f4967-2bed-4cfb-ac58-94df1d046a04')\"\n",
              "              title=\"Convert this dataframe to an interactive table.\"\n",
              "              style=\"display:none;\">\n",
              "        \n",
              "  <svg xmlns=\"http://www.w3.org/2000/svg\" height=\"24px\"viewBox=\"0 0 24 24\"\n",
              "       width=\"24px\">\n",
              "    <path d=\"M0 0h24v24H0V0z\" fill=\"none\"/>\n",
              "    <path d=\"M18.56 5.44l.94 2.06.94-2.06 2.06-.94-2.06-.94-.94-2.06-.94 2.06-2.06.94zm-11 1L8.5 8.5l.94-2.06 2.06-.94-2.06-.94L8.5 2.5l-.94 2.06-2.06.94zm10 10l.94 2.06.94-2.06 2.06-.94-2.06-.94-.94-2.06-.94 2.06-2.06.94z\"/><path d=\"M17.41 7.96l-1.37-1.37c-.4-.4-.92-.59-1.43-.59-.52 0-1.04.2-1.43.59L10.3 9.45l-7.72 7.72c-.78.78-.78 2.05 0 2.83L4 21.41c.39.39.9.59 1.41.59.51 0 1.02-.2 1.41-.59l7.78-7.78 2.81-2.81c.8-.78.8-2.07 0-2.86zM5.41 20L4 18.59l7.72-7.72 1.47 1.35L5.41 20z\"/>\n",
              "  </svg>\n",
              "      </button>\n",
              "      \n",
              "  <style>\n",
              "    .colab-df-container {\n",
              "      display:flex;\n",
              "      flex-wrap:wrap;\n",
              "      gap: 12px;\n",
              "    }\n",
              "\n",
              "    .colab-df-convert {\n",
              "      background-color: #E8F0FE;\n",
              "      border: none;\n",
              "      border-radius: 50%;\n",
              "      cursor: pointer;\n",
              "      display: none;\n",
              "      fill: #1967D2;\n",
              "      height: 32px;\n",
              "      padding: 0 0 0 0;\n",
              "      width: 32px;\n",
              "    }\n",
              "\n",
              "    .colab-df-convert:hover {\n",
              "      background-color: #E2EBFA;\n",
              "      box-shadow: 0px 1px 2px rgba(60, 64, 67, 0.3), 0px 1px 3px 1px rgba(60, 64, 67, 0.15);\n",
              "      fill: #174EA6;\n",
              "    }\n",
              "\n",
              "    [theme=dark] .colab-df-convert {\n",
              "      background-color: #3B4455;\n",
              "      fill: #D2E3FC;\n",
              "    }\n",
              "\n",
              "    [theme=dark] .colab-df-convert:hover {\n",
              "      background-color: #434B5C;\n",
              "      box-shadow: 0px 1px 3px 1px rgba(0, 0, 0, 0.15);\n",
              "      filter: drop-shadow(0px 1px 2px rgba(0, 0, 0, 0.3));\n",
              "      fill: #FFFFFF;\n",
              "    }\n",
              "  </style>\n",
              "\n",
              "      <script>\n",
              "        const buttonEl =\n",
              "          document.querySelector('#df-6e9f4967-2bed-4cfb-ac58-94df1d046a04 button.colab-df-convert');\n",
              "        buttonEl.style.display =\n",
              "          google.colab.kernel.accessAllowed ? 'block' : 'none';\n",
              "\n",
              "        async function convertToInteractive(key) {\n",
              "          const element = document.querySelector('#df-6e9f4967-2bed-4cfb-ac58-94df1d046a04');\n",
              "          const dataTable =\n",
              "            await google.colab.kernel.invokeFunction('convertToInteractive',\n",
              "                                                     [key], {});\n",
              "          if (!dataTable) return;\n",
              "\n",
              "          const docLinkHtml = 'Like what you see? Visit the ' +\n",
              "            '<a target=\"_blank\" href=https://colab.research.google.com/notebooks/data_table.ipynb>data table notebook</a>'\n",
              "            + ' to learn more about interactive tables.';\n",
              "          element.innerHTML = '';\n",
              "          dataTable['output_type'] = 'display_data';\n",
              "          await google.colab.output.renderOutput(dataTable, element);\n",
              "          const docLink = document.createElement('div');\n",
              "          docLink.innerHTML = docLinkHtml;\n",
              "          element.appendChild(docLink);\n",
              "        }\n",
              "      </script>\n",
              "    </div>\n",
              "  </div>\n",
              "  "
            ]
          },
          "metadata": {},
          "execution_count": 12
        }
      ]
    },
    {
      "cell_type": "code",
      "source": [
        "prediction = 'Close'\n",
        "time_step = 60\n",
        "epochs = 50\n",
        "loss_function = 'mean_squared_error'\n",
        "\n",
        "df1=df.reset_index()[prediction]\n",
        "sns.set(rc={'figure.figsize':(11, 4)})\n",
        "print('before normalization')\n",
        "plt.plot(df1)\n",
        "plt.show()\n",
        "scaler=MinMaxScaler(feature_range=(0,1))\n",
        "df1=scaler.fit_transform(np.array(df1).reshape(-1,1))\n",
        "\n",
        "print('after normalization')\n",
        "plt.plot(df1)\n",
        "plt.show()\n",
        "\n",
        "#split training and test size\n",
        "training_size=int(len(df1)*0.80)\n",
        "test_size=len(df1)-training_size\n",
        "train_data,test_data=df1[0:training_size,:],df1[training_size:len(df1),:1]"
      ],
      "metadata": {
        "colab": {
          "base_uri": "https://localhost:8080/",
          "height": 555
        },
        "id": "KovxOe3nuCso",
        "outputId": "2348e2f6-aa2f-45d2-ac61-887e728cf732"
      },
      "execution_count": null,
      "outputs": [
        {
          "output_type": "stream",
          "name": "stdout",
          "text": [
            "before normalization\n"
          ]
        },
        {
          "output_type": "display_data",
          "data": {
            "text/plain": [
              "<Figure size 792x288 with 1 Axes>"
            ],
            "image/png": "[encoded data removed]"
          },
          "metadata": {}
        },
        {
          "output_type": "stream",
          "name": "stdout",
          "text": [
            "after normalization\n"
          ]
        },
        {
          "output_type": "display_data",
          "data": {
            "text/plain": [
              "<Figure size 792x288 with 1 Axes>"
            ],
            "image/png": "[encoded data removed]"
          },
          "metadata": {}
        }
      ]
    },
    {
      "cell_type": "code",
      "source": [
        "def create_dataset(dataset, time_step=1):\n",
        "\tdataX, dataY = [], []\n",
        "\tfor i in range(len(dataset)-time_step-1):\n",
        "\t\ta = dataset[i:(i+time_step), 0]\n",
        "\t\tdataX.append(a)\n",
        "\t\tdataY.append(dataset[i + time_step, 0])\n",
        "\treturn numpy.array(dataX), numpy.array(dataY)\n",
        "\n"
      ],
      "metadata": {
        "id": "WW4nBpjru1-p"
      },
      "execution_count": null,
      "outputs": []
    },
    {
      "cell_type": "code",
      "source": [
        "\n",
        "X_train, y_train = create_dataset(train_data, time_step)\n",
        "X_test, ytest = create_dataset(test_data, time_step)\n"
      ],
      "metadata": {
        "id": "3IMh5dEfu91_"
      },
      "execution_count": null,
      "outputs": []
    },
    {
      "cell_type": "code",
      "source": [
        "X_train.shape"
      ],
      "metadata": {
        "colab": {
          "base_uri": "https://localhost:8080/"
        },
        "id": "snurK-wZvSzz",
        "outputId": "a5f12987-17e2-4903-b666-3fcb595719ea"
      },
      "execution_count": null,
      "outputs": [
        {
          "output_type": "execute_result",
          "data": {
            "text/plain": [
              "(4183, 60)"
            ]
          },
          "metadata": {},
          "execution_count": 16
        }
      ]
    },
    {
      "cell_type": "code",
      "source": [
        "X_train =X_train.reshape(X_train.shape[0],X_train.shape[1] , 1)\n",
        "X_test = X_test.reshape(X_test.shape[0],X_test.shape[1] , 1)"
      ],
      "metadata": {
        "id": "d2ORR7Y0veOm"
      },
      "execution_count": null,
      "outputs": []
    },
    {
      "cell_type": "code",
      "source": [
        "X_test.shape"
      ],
      "metadata": {
        "colab": {
          "base_uri": "https://localhost:8080/"
        },
        "id": "Gaxq5BfvvfXU",
        "outputId": "8e21e5d7-135f-4fdb-b265-1824fcec8fa1"
      },
      "execution_count": null,
      "outputs": [
        {
          "output_type": "execute_result",
          "data": {
            "text/plain": [
              "(1001, 60, 1)"
            ]
          },
          "metadata": {},
          "execution_count": 18
        }
      ]
    },
    {
      "cell_type": "code",
      "source": [
        "def st(ips, name=\"sub_block1\"):\n",
        "  x = LSTM(64, return_sequences=True, activation='tanh')(ips)\n",
        "  x = LSTM(64, activation='tanh')(x)\n",
        "  #x = Dense(32, activation = \"relu\")(x)\n",
        "  #x = Dense(1, activation = \"relu\")(x)\n",
        "  return x"
      ],
      "metadata": {
        "id": "dEurb9gC0J01"
      },
      "execution_count": null,
      "outputs": []
    },
    {
      "cell_type": "code",
      "source": [
        "def st2(ips, name=\"sub_block2\"):\n",
        "  x = GRU(64, return_sequences=True, activation='tanh')(ips)\n",
        "  x = GRU(64, activation='tanh')(x)\n",
        "  #x = Dense(32, activation = \"relu\")(x)\n",
        "  #x = Dense(1, activation = \"relu\")(x)\n",
        "  return x"
      ],
      "metadata": {
        "id": "VjJzy1KUGRfG"
      },
      "execution_count": null,
      "outputs": []
    },
    {
      "cell_type": "code",
      "source": [
        "start = Input(shape= (None,1), name=\"input\")\n",
        "x = Conv1D(filters=128, kernel_size=5, strides=1, padding=\"causal\", activation=\"relu\")(start)\n",
        "x1 = st(x)\n",
        "\n",
        "x2 = st2(x)\n",
        "\n",
        "x= layers.multiply([x1, x2])\n",
        "#x= layers.concatenate([x1, x2])\n",
        "x = Dense(32, activation = \"relu\")(x)\n",
        "x = Dense(16, activation = \"relu\")(x)\n",
        "end = Dense(1, name=\"output\")(x)\n",
        "final = Model(inputs=start, outputs=end)"
      ],
      "metadata": {
        "id": "f50U1em30h2C"
      },
      "execution_count": null,
      "outputs": []
    },
    {
      "cell_type": "code",
      "source": [
        "keras.utils.plot_model(final, show_shapes = True, expand_nested=False, show_layer_activations=True, dpi=60)"
      ],
      "metadata": {
        "colab": {
          "base_uri": "https://localhost:8080/",
          "height": 547
        },
        "id": "JUef3iR21ovC",
        "outputId": "bb0e9a23-5013-4bc3-cae1-c34adc0c76a2"
      },
      "execution_count": null,
      "outputs": [
        {
          "output_type": "execute_result",
          "data": {
            "text/plain": [
              "<IPython.core.display.Image object>"
            ],
            "image/png": "[encoded data removed]"
          },
          "metadata": {},
          "execution_count": 22
        }
      ]
    },
    {
      "cell_type": "code",
      "source": [
        "final.summary()"
      ],
      "metadata": {
        "colab": {
          "base_uri": "https://localhost:8080/"
        },
        "id": "9SPdf-lFV0XR",
        "outputId": "837abd27-f2a2-4905-fb7a-b65816d0a38f"
      },
      "execution_count": null,
      "outputs": [
        {
          "output_type": "stream",
          "name": "stdout",
          "text": [
            "Model: \"model\"\n",
            "__________________________________________________________________________________________________\n",
            " Layer (type)                   Output Shape         Param #     Connected to                     \n",
            "==================================================================================================\n",
            " input (InputLayer)             [(None, None, 1)]    0           []                               \n",
            "                                                                                                  \n",
            " conv1d (Conv1D)                (None, None, 128)    768         ['input[0][0]']                  \n",
            "                                                                                                  \n",
            " lstm (LSTM)                    (None, None, 64)     49408       ['conv1d[0][0]']                 \n",
            "                                                                                                  \n",
            " gru (GRU)                      (None, None, 64)     37248       ['conv1d[0][0]']                 \n",
            "                                                                                                  \n",
            " lstm_1 (LSTM)                  (None, 64)           33024       ['lstm[0][0]']                   \n",
            "                                                                                                  \n",
            " gru_1 (GRU)                    (None, 64)           24960       ['gru[0][0]']                    \n",
            "                                                                                                  \n",
            " multiply (Multiply)            (None, 64)           0           ['lstm_1[0][0]',                 \n",
            "                                                                  'gru_1[0][0]']                  \n",
            "                                                                                                  \n",
            " dense (Dense)                  (None, 32)           2080        ['multiply[0][0]']               \n",
            "                                                                                                  \n",
            " dense_1 (Dense)                (None, 16)           528         ['dense[0][0]']                  \n",
            "                                                                                                  \n",
            " output (Dense)                 (None, 1)            17          ['dense_1[0][0]']                \n",
            "                                                                                                  \n",
            "==================================================================================================\n",
            "Total params: 148,033\n",
            "Trainable params: 148,033\n",
            "Non-trainable params: 0\n",
            "__________________________________________________________________________________________________\n"
          ]
        }
      ]
    },
    {
      "cell_type": "markdown",
      "source": [
        "#Model Train"
      ],
      "metadata": {
        "id": "SbaxZrkN7xUq"
      }
    },
    {
      "cell_type": "code",
      "source": [],
      "metadata": {
        "id": "7RHNUE8z0gtk"
      },
      "execution_count": null,
      "outputs": []
    },
    {
      "cell_type": "code",
      "source": [
        "from keras import callbacks\n",
        "final.compile(loss=loss_function,optimizer='adam')\n",
        "\n",
        "filepath=\"model_update.h5\"\n",
        "checkpoint = callbacks.ModelCheckpoint(filepath, monitor='val_loss',save_best_only=True, mode='min',verbose=1)\n",
        "callbacks_list = [checkpoint]\n",
        "\n",
        "print('Training started ... ...')\n",
        "t1 = time.time()\n",
        "history = final.fit(X_train,y_train,validation_data=(X_test,ytest), epochs=epochs, batch_size=64, verbose=1, callbacks=callbacks_list)\n",
        "\n",
        "print('-  -   -   -   -   -   -   -   -   -   -   -   -   -   -   -   -')\n",
        "t2 = time.time()\n",
        "print('Training Time: ', (t2-t1)/60.0, 'Minutes')"
      ],
      "metadata": {
        "colab": {
          "base_uri": "https://localhost:8080/"
        },
        "id": "R7aWV_zrw9zg",
        "outputId": "a9cd89af-c790-48c8-90c6-1677c7b7b556"
      },
      "execution_count": null,
      "outputs": [
        {
          "output_type": "stream",
          "name": "stdout",
          "text": [
            "Training started ... ...\n",
            "Epoch 1/50\n",
            "66/66 [==============================] - ETA: 0s - loss: 0.0241\n",
            "Epoch 1: val_loss improved from inf to 0.00058, saving model to model_update.h5\n",
            "66/66 [==============================] - 24s 93ms/step - loss: 0.0241 - val_loss: 5.7912e-04\n",
            "Epoch 2/50\n",
            "66/66 [==============================] - ETA: 0s - loss: 7.9307e-04\n",
            "Epoch 2: val_loss improved from 0.00058 to 0.00056, saving model to model_update.h5\n",
            "66/66 [==============================] - 4s 64ms/step - loss: 7.9307e-04 - val_loss: 5.6357e-04\n",
            "Epoch 3/50\n",
            "66/66 [==============================] - ETA: 0s - loss: 6.4850e-04\n",
            "Epoch 3: val_loss improved from 0.00056 to 0.00037, saving model to model_update.h5\n",
            "66/66 [==============================] - 4s 65ms/step - loss: 6.4850e-04 - val_loss: 3.7488e-04\n",
            "Epoch 4/50\n",
            "66/66 [==============================] - ETA: 0s - loss: 5.5647e-04\n",
            "Epoch 4: val_loss did not improve from 0.00037\n",
            "66/66 [==============================] - 4s 65ms/step - loss: 5.5647e-04 - val_loss: 4.0380e-04\n",
            "Epoch 5/50\n",
            "66/66 [==============================] - ETA: 0s - loss: 4.4797e-04\n",
            "Epoch 5: val_loss did not improve from 0.00037\n",
            "66/66 [==============================] - 4s 65ms/step - loss: 4.4797e-04 - val_loss: 5.0382e-04\n",
            "Epoch 6/50\n",
            "66/66 [==============================] - ETA: 0s - loss: 4.1361e-04\n",
            "Epoch 6: val_loss improved from 0.00037 to 0.00026, saving model to model_update.h5\n",
            "66/66 [==============================] - 5s 70ms/step - loss: 4.1361e-04 - val_loss: 2.5909e-04\n",
            "Epoch 7/50\n",
            "66/66 [==============================] - ETA: 0s - loss: 4.2988e-04\n",
            "Epoch 7: val_loss improved from 0.00026 to 0.00024, saving model to model_update.h5\n",
            "66/66 [==============================] - 4s 66ms/step - loss: 4.2988e-04 - val_loss: 2.4184e-04\n",
            "Epoch 8/50\n",
            "66/66 [==============================] - ETA: 0s - loss: 3.9776e-04\n",
            "Epoch 8: val_loss improved from 0.00024 to 0.00023, saving model to model_update.h5\n",
            "66/66 [==============================] - 4s 67ms/step - loss: 3.9776e-04 - val_loss: 2.3455e-04\n",
            "Epoch 9/50\n",
            "66/66 [==============================] - ETA: 0s - loss: 3.5501e-04\n",
            "Epoch 9: val_loss did not improve from 0.00023\n",
            "66/66 [==============================] - 4s 65ms/step - loss: 3.5501e-04 - val_loss: 2.6817e-04\n",
            "Epoch 10/50\n",
            "65/66 [============================>.] - ETA: 0s - loss: 3.6389e-04\n",
            "Epoch 10: val_loss improved from 0.00023 to 0.00019, saving model to model_update.h5\n",
            "66/66 [==============================] - 4s 64ms/step - loss: 3.6297e-04 - val_loss: 1.8888e-04\n",
            "Epoch 11/50\n",
            "66/66 [==============================] - ETA: 0s - loss: 3.1205e-04\n",
            "Epoch 11: val_loss did not improve from 0.00019\n",
            "66/66 [==============================] - 4s 64ms/step - loss: 3.1205e-04 - val_loss: 2.1313e-04\n",
            "Epoch 12/50\n",
            "66/66 [==============================] - ETA: 0s - loss: 3.2282e-04\n",
            "Epoch 12: val_loss improved from 0.00019 to 0.00018, saving model to model_update.h5\n",
            "66/66 [==============================] - 4s 64ms/step - loss: 3.2282e-04 - val_loss: 1.7783e-04\n",
            "Epoch 13/50\n",
            "66/66 [==============================] - ETA: 0s - loss: 3.4658e-04\n",
            "Epoch 13: val_loss did not improve from 0.00018\n",
            "66/66 [==============================] - 4s 63ms/step - loss: 3.4658e-04 - val_loss: 1.9919e-04\n",
            "Epoch 14/50\n",
            "66/66 [==============================] - ETA: 0s - loss: 3.0667e-04\n",
            "Epoch 14: val_loss improved from 0.00018 to 0.00018, saving model to model_update.h5\n",
            "66/66 [==============================] - 4s 65ms/step - loss: 3.0667e-04 - val_loss: 1.7547e-04\n",
            "Epoch 15/50\n",
            "66/66 [==============================] - ETA: 0s - loss: 3.1505e-04\n",
            "Epoch 15: val_loss improved from 0.00018 to 0.00017, saving model to model_update.h5\n",
            "66/66 [==============================] - 4s 65ms/step - loss: 3.1505e-04 - val_loss: 1.6891e-04\n",
            "Epoch 16/50\n",
            "66/66 [==============================] - ETA: 0s - loss: 3.0287e-04\n",
            "Epoch 16: val_loss did not improve from 0.00017\n",
            "66/66 [==============================] - 4s 64ms/step - loss: 3.0287e-04 - val_loss: 1.8270e-04\n",
            "Epoch 17/50\n",
            "66/66 [==============================] - ETA: 0s - loss: 2.9013e-04\n",
            "Epoch 17: val_loss did not improve from 0.00017\n",
            "66/66 [==============================] - 4s 65ms/step - loss: 2.9013e-04 - val_loss: 1.8599e-04\n",
            "Epoch 18/50\n",
            "66/66 [==============================] - ETA: 0s - loss: 3.4472e-04\n",
            "Epoch 18: val_loss did not improve from 0.00017\n",
            "66/66 [==============================] - 4s 64ms/step - loss: 3.4472e-04 - val_loss: 1.7469e-04\n",
            "Epoch 19/50\n",
            "66/66 [==============================] - ETA: 0s - loss: 2.6188e-04\n",
            "Epoch 19: val_loss did not improve from 0.00017\n",
            "66/66 [==============================] - 4s 65ms/step - loss: 2.6188e-04 - val_loss: 2.5375e-04\n",
            "Epoch 20/50\n",
            "66/66 [==============================] - ETA: 0s - loss: 2.9454e-04\n",
            "Epoch 20: val_loss did not improve from 0.00017\n",
            "66/66 [==============================] - 4s 63ms/step - loss: 2.9454e-04 - val_loss: 1.6925e-04\n",
            "Epoch 21/50\n",
            "66/66 [==============================] - ETA: 0s - loss: 2.7545e-04\n",
            "Epoch 21: val_loss did not improve from 0.00017\n",
            "66/66 [==============================] - 4s 64ms/step - loss: 2.7545e-04 - val_loss: 1.7523e-04\n",
            "Epoch 22/50\n",
            "66/66 [==============================] - ETA: 0s - loss: 2.5684e-04\n",
            "Epoch 22: val_loss improved from 0.00017 to 0.00016, saving model to model_update.h5\n",
            "66/66 [==============================] - 4s 66ms/step - loss: 2.5684e-04 - val_loss: 1.5559e-04\n",
            "Epoch 23/50\n",
            "66/66 [==============================] - ETA: 0s - loss: 2.5758e-04\n",
            "Epoch 23: val_loss improved from 0.00016 to 0.00016, saving model to model_update.h5\n",
            "66/66 [==============================] - 4s 65ms/step - loss: 2.5758e-04 - val_loss: 1.5505e-04\n",
            "Epoch 24/50\n",
            "66/66 [==============================] - ETA: 0s - loss: 2.8828e-04\n",
            "Epoch 24: val_loss did not improve from 0.00016\n",
            "66/66 [==============================] - 4s 64ms/step - loss: 2.8828e-04 - val_loss: 1.5556e-04\n",
            "Epoch 25/50\n",
            "66/66 [==============================] - ETA: 0s - loss: 3.1487e-04\n",
            "Epoch 25: val_loss did not improve from 0.00016\n",
            "66/66 [==============================] - 4s 63ms/step - loss: 3.1487e-04 - val_loss: 1.5865e-04\n",
            "Epoch 26/50\n",
            "66/66 [==============================] - ETA: 0s - loss: 2.8823e-04\n",
            "Epoch 26: val_loss did not improve from 0.00016\n",
            "66/66 [==============================] - 4s 64ms/step - loss: 2.8823e-04 - val_loss: 1.8964e-04\n",
            "Epoch 27/50\n",
            "66/66 [==============================] - ETA: 0s - loss: 2.5752e-04\n",
            "Epoch 27: val_loss did not improve from 0.00016\n",
            "66/66 [==============================] - 4s 64ms/step - loss: 2.5752e-04 - val_loss: 1.8220e-04\n",
            "Epoch 28/50\n",
            "66/66 [==============================] - ETA: 0s - loss: 2.6372e-04\n",
            "Epoch 28: val_loss did not improve from 0.00016\n",
            "66/66 [==============================] - 4s 64ms/step - loss: 2.6372e-04 - val_loss: 3.3610e-04\n",
            "Epoch 29/50\n",
            "66/66 [==============================] - ETA: 0s - loss: 3.4319e-04\n",
            "Epoch 29: val_loss did not improve from 0.00016\n",
            "66/66 [==============================] - 4s 64ms/step - loss: 3.4319e-04 - val_loss: 1.6052e-04\n",
            "Epoch 30/50\n",
            "66/66 [==============================] - ETA: 0s - loss: 3.3117e-04\n",
            "Epoch 30: val_loss improved from 0.00016 to 0.00015, saving model to model_update.h5\n",
            "66/66 [==============================] - 4s 65ms/step - loss: 3.3117e-04 - val_loss: 1.5341e-04\n",
            "Epoch 31/50\n",
            "66/66 [==============================] - ETA: 0s - loss: 2.5718e-04\n",
            "Epoch 31: val_loss did not improve from 0.00015\n",
            "66/66 [==============================] - 4s 67ms/step - loss: 2.5718e-04 - val_loss: 1.5634e-04\n",
            "Epoch 32/50\n",
            "66/66 [==============================] - ETA: 0s - loss: 2.5930e-04\n",
            "Epoch 32: val_loss did not improve from 0.00015\n",
            "66/66 [==============================] - 4s 64ms/step - loss: 2.5930e-04 - val_loss: 2.0702e-04\n",
            "Epoch 33/50\n",
            "66/66 [==============================] - ETA: 0s - loss: 3.3423e-04\n",
            "Epoch 33: val_loss did not improve from 0.00015\n",
            "66/66 [==============================] - 4s 64ms/step - loss: 3.3423e-04 - val_loss: 1.5869e-04\n",
            "Epoch 34/50\n",
            "66/66 [==============================] - ETA: 0s - loss: 2.5641e-04\n",
            "Epoch 34: val_loss did not improve from 0.00015\n",
            "66/66 [==============================] - 4s 64ms/step - loss: 2.5641e-04 - val_loss: 1.5538e-04\n",
            "Epoch 35/50\n",
            "66/66 [==============================] - ETA: 0s - loss: 2.9288e-04\n",
            "Epoch 35: val_loss did not improve from 0.00015\n",
            "66/66 [==============================] - 4s 65ms/step - loss: 2.9288e-04 - val_loss: 1.5624e-04\n",
            "Epoch 36/50\n",
            "66/66 [==============================] - ETA: 0s - loss: 2.6278e-04\n",
            "Epoch 36: val_loss did not improve from 0.00015\n",
            "66/66 [==============================] - 4s 64ms/step - loss: 2.6278e-04 - val_loss: 2.1481e-04\n",
            "Epoch 37/50\n",
            "66/66 [==============================] - ETA: 0s - loss: 2.9588e-04\n",
            "Epoch 37: val_loss did not improve from 0.00015\n",
            "66/66 [==============================] - 4s 65ms/step - loss: 2.9588e-04 - val_loss: 4.3683e-04\n",
            "Epoch 38/50\n",
            "66/66 [==============================] - ETA: 0s - loss: 3.3604e-04\n",
            "Epoch 38: val_loss did not improve from 0.00015\n",
            "66/66 [==============================] - 4s 64ms/step - loss: 3.3604e-04 - val_loss: 1.5443e-04\n",
            "Epoch 39/50\n",
            "66/66 [==============================] - ETA: 0s - loss: 2.5515e-04\n",
            "Epoch 39: val_loss did not improve from 0.00015\n",
            "66/66 [==============================] - 4s 63ms/step - loss: 2.5515e-04 - val_loss: 4.2635e-04\n",
            "Epoch 40/50\n",
            "66/66 [==============================] - ETA: 0s - loss: 3.3833e-04\n",
            "Epoch 40: val_loss did not improve from 0.00015\n",
            "66/66 [==============================] - 4s 65ms/step - loss: 3.3833e-04 - val_loss: 1.6744e-04\n",
            "Epoch 41/50\n",
            "66/66 [==============================] - ETA: 0s - loss: 2.7064e-04\n",
            "Epoch 41: val_loss did not improve from 0.00015\n",
            "66/66 [==============================] - 4s 67ms/step - loss: 2.7064e-04 - val_loss: 1.6313e-04\n",
            "Epoch 42/50\n",
            "66/66 [==============================] - ETA: 0s - loss: 2.6650e-04\n",
            "Epoch 42: val_loss did not improve from 0.00015\n",
            "66/66 [==============================] - 4s 64ms/step - loss: 2.6650e-04 - val_loss: 1.9215e-04\n",
            "Epoch 43/50\n",
            "66/66 [==============================] - ETA: 0s - loss: 2.7400e-04\n",
            "Epoch 43: val_loss did not improve from 0.00015\n",
            "66/66 [==============================] - 4s 64ms/step - loss: 2.7400e-04 - val_loss: 1.5652e-04\n",
            "Epoch 44/50\n",
            "66/66 [==============================] - ETA: 0s - loss: 2.4721e-04\n",
            "Epoch 44: val_loss improved from 0.00015 to 0.00015, saving model to model_update.h5\n",
            "66/66 [==============================] - 4s 65ms/step - loss: 2.4721e-04 - val_loss: 1.5201e-04\n",
            "Epoch 45/50\n",
            "66/66 [==============================] - ETA: 0s - loss: 2.6821e-04\n",
            "Epoch 45: val_loss did not improve from 0.00015\n",
            "66/66 [==============================] - 4s 64ms/step - loss: 2.6821e-04 - val_loss: 4.0191e-04\n",
            "Epoch 46/50\n",
            "66/66 [==============================] - ETA: 0s - loss: 3.0893e-04\n",
            "Epoch 46: val_loss did not improve from 0.00015\n",
            "66/66 [==============================] - 4s 64ms/step - loss: 3.0893e-04 - val_loss: 2.8018e-04\n",
            "Epoch 47/50\n",
            "66/66 [==============================] - ETA: 0s - loss: 3.2016e-04\n",
            "Epoch 47: val_loss did not improve from 0.00015\n",
            "66/66 [==============================] - 4s 64ms/step - loss: 3.2016e-04 - val_loss: 1.5658e-04\n",
            "Epoch 48/50\n",
            "66/66 [==============================] - ETA: 0s - loss: 2.5823e-04\n",
            "Epoch 48: val_loss did not improve from 0.00015\n",
            "66/66 [==============================] - 4s 64ms/step - loss: 2.5823e-04 - val_loss: 1.6822e-04\n",
            "Epoch 49/50\n",
            "66/66 [==============================] - ETA: 0s - loss: 2.7977e-04\n",
            "Epoch 49: val_loss did not improve from 0.00015\n",
            "66/66 [==============================] - 4s 64ms/step - loss: 2.7977e-04 - val_loss: 1.5411e-04\n",
            "Epoch 50/50\n",
            "66/66 [==============================] - ETA: 0s - loss: 2.5924e-04\n",
            "Epoch 50: val_loss did not improve from 0.00015\n",
            "66/66 [==============================] - 4s 65ms/step - loss: 2.5924e-04 - val_loss: 1.5406e-04\n",
            "-  -   -   -   -   -   -   -   -   -   -   -   -   -   -   -   -\n",
            "Training Time:  4.497634180386862 Minutes\n"
          ]
        }
      ]
    },
    {
      "cell_type": "markdown",
      "source": [
        "# analysis"
      ],
      "metadata": {
        "id": "sVyocF6iFkqR"
      }
    },
    {
      "cell_type": "code",
      "source": [
        "hist_df = pd.DataFrame(history.history)\n",
        "hist_df.to_csv('mse_loss.csv', index = False)"
      ],
      "metadata": {
        "id": "U0mI5SGLyy1M"
      },
      "execution_count": null,
      "outputs": []
    },
    {
      "cell_type": "code",
      "source": [
        "final.load_weights(\"model_update.h5\")"
      ],
      "metadata": {
        "id": "ipIoebbB6Mw3"
      },
      "execution_count": null,
      "outputs": []
    },
    {
      "cell_type": "code",
      "source": [
        "test_predict=final.predict(X_test)"
      ],
      "metadata": {
        "id": "oZqHd3cR6gZQ"
      },
      "execution_count": null,
      "outputs": []
    },
    {
      "cell_type": "code",
      "source": [
        "ytest"
      ],
      "metadata": {
        "colab": {
          "base_uri": "https://localhost:8080/"
        },
        "id": "wdPcBtj39KEt",
        "outputId": "9ee01273-6888-49cf-818f-e27b0a27ab43"
      },
      "execution_count": null,
      "outputs": [
        {
          "output_type": "execute_result",
          "data": {
            "text/plain": [
              "array([0.60690026, 0.59971656, 0.60015638, ..., 0.30318135, 0.30039584,\n",
              "       0.30239945])"
            ]
          },
          "metadata": {},
          "execution_count": 28
        }
      ]
    },
    {
      "cell_type": "code",
      "source": [
        "time_ahead = 30\n",
        "new_index = list(range(training_size, training_size+time_ahead))\n",
        "\n",
        "df_p = {'x_val':list(new_index), 'y_val':list(test_predict[:time_ahead])}\n",
        "df_t = {'x_val':list(new_index), 'y_val':list(ytest[:time_ahead])}\n",
        "\n",
        "df_p = pd.DataFrame(df_p)\n",
        "df_t = pd.DataFrame(df_t)\n",
        "df_p['y_val'] = df_p['y_val'].str.get(0)\n",
        "new_df = {'TimeActual': df_t['x_val'], 'PriceActual': df_t['y_val'], 'TimePredicted': df_p['x_val'], 'PricePredicted': df_p['y_val'] }\n",
        "new_data= pd.DataFrame(new_df)\n",
        "new_data.to_csv(f'Future_{time_ahead}_days_data.csv', index = False)\n",
        "\n",
        "plt.plot(df_t['x_val'], df_t['y_val'], label='Actual')\n",
        "plt.plot(df_p['x_val'], df_p['y_val'], label='Predicted')\n",
        "plt.legend()\n",
        "plt.xlabel('Days')\n",
        "plt.ylabel('Closing Price')\n",
        "plt.savefig(f'Future_{time_ahead}_days_data.csv.png', bbox_inches =\"tight\", dpi = 720)\n",
        "plt.show()"
      ],
      "metadata": {
        "colab": {
          "base_uri": "https://localhost:8080/",
          "height": 285
        },
        "id": "w8nsb95T6v3Z",
        "outputId": "c519e0eb-f6fc-4a32-85a1-2cf6ba89e169"
      },
      "execution_count": null,
      "outputs": [
        {
          "output_type": "display_data",
          "data": {
            "text/plain": [
              "<Figure size 792x288 with 1 Axes>"
            ],
            "image/png": "[encoded data removed]"
          },
          "metadata": {}
        }
      ]
    },
    {
      "cell_type": "code",
      "source": [
        "time_ahead = 100\n",
        "new_index = list(range(training_size, training_size+time_ahead))\n",
        "\n",
        "df_p = {'x_val':list(new_index), 'y_val':list(test_predict[:time_ahead])}\n",
        "df_t = {'x_val':list(new_index), 'y_val':list(ytest[:time_ahead])}\n",
        "\n",
        "df_p = pd.DataFrame(df_p)\n",
        "df_t = pd.DataFrame(df_t)\n",
        "df_p['y_val'] = df_p['y_val'].str.get(0)\n",
        "new_df = {'TimeActual': df_t['x_val'], 'PriceActual': df_t['y_val'], 'TimePredicted': df_p['x_val'], 'PricePredicted': df_p['y_val'] }\n",
        "new_data= pd.DataFrame(new_df)\n",
        "new_data.to_csv(f'Future_{time_ahead}_days_data.csv', index = False)\n",
        "\n",
        "plt.plot(df_t['x_val'], df_t['y_val'], label='Actual')\n",
        "plt.plot(df_p['x_val'], df_p['y_val'], label='Predicted')\n",
        "plt.legend()\n",
        "plt.xlabel('Days')\n",
        "plt.ylabel('Closing Price')\n",
        "plt.savefig(f'Future_{time_ahead}_days_data.csv.png', bbox_inches =\"tight\", dpi = 720)\n",
        "plt.show()"
      ],
      "metadata": {
        "colab": {
          "base_uri": "https://localhost:8080/",
          "height": 285
        },
        "id": "_rVca1t-8peM",
        "outputId": "3e78e45c-3a52-41d7-eb21-d623c0e9acce"
      },
      "execution_count": null,
      "outputs": [
        {
          "output_type": "display_data",
          "data": {
            "text/plain": [
              "<Figure size 792x288 with 1 Axes>"
            ],
            "image/png": "[encoded data removed]"
          },
          "metadata": {}
        }
      ]
    },
    {
      "cell_type": "code",
      "source": [
        "time_ahead = 365\n",
        "new_index = list(range(training_size, training_size+time_ahead))\n",
        "\n",
        "df_p = {'x_val':list(new_index), 'y_val':list(test_predict[:time_ahead])}\n",
        "df_t = {'x_val':list(new_index), 'y_val':list(ytest[:time_ahead])}\n",
        "\n",
        "df_p = pd.DataFrame(df_p)\n",
        "df_t = pd.DataFrame(df_t)\n",
        "df_p['y_val'] = df_p['y_val'].str.get(0)\n",
        "new_df = {'TimeActual': df_t['x_val'], 'PriceActual': df_t['y_val'], 'TimePredicted': df_p['x_val'], 'PricePredicted': df_p['y_val'] }\n",
        "new_data= pd.DataFrame(new_df)\n",
        "new_data.to_csv(f'Future_{time_ahead}_days_data.csv', index = False)\n",
        "\n",
        "plt.plot(df_t['x_val'], df_t['y_val'], label='Actual')\n",
        "plt.plot(df_p['x_val'], df_p['y_val'], label='Predicted')\n",
        "plt.legend()\n",
        "plt.xlabel('Days')\n",
        "plt.ylabel('Closing Price')\n",
        "plt.savefig(f'Future_{time_ahead}_days_data.csv.png', bbox_inches =\"tight\", dpi = 720)\n",
        "plt.show()"
      ],
      "metadata": {
        "colab": {
          "base_uri": "https://localhost:8080/",
          "height": 285
        },
        "id": "BNfwSpEZ81pD",
        "outputId": "ed929e81-aeca-43a9-f41e-7880ab286324"
      },
      "execution_count": null,
      "outputs": [
        {
          "output_type": "display_data",
          "data": {
            "text/plain": [
              "<Figure size 792x288 with 1 Axes>"
            ],
            "image/png": "[encoded data removed]"
          },
          "metadata": {}
        }
      ]
    },
    {
      "cell_type": "code",
      "source": [
        "time_ahead = 1000\n",
        "new_index = list(range(training_size, training_size+time_ahead))\n",
        "\n",
        "df_p = {'x_val':list(new_index), 'y_val':list(test_predict[:time_ahead])}\n",
        "df_t = {'x_val':list(new_index), 'y_val':list(ytest[:time_ahead])}\n",
        "\n",
        "df_p = pd.DataFrame(df_p)\n",
        "df_t = pd.DataFrame(df_t)\n",
        "df_p['y_val'] = df_p['y_val'].str.get(0)\n",
        "new_df = {'TimeActual': df_t['x_val'], 'PriceActual': df_t['y_val'], 'TimePredicted': df_p['x_val'], 'PricePredicted': df_p['y_val'] }\n",
        "new_data= pd.DataFrame(new_df)\n",
        "new_data.to_csv(f'Future_{time_ahead}_days_data.csv', index = False)\n",
        "\n",
        "plt.plot(df_t['x_val'], df_t['y_val'], label='Actual')\n",
        "plt.plot(df_p['x_val'], df_p['y_val'], label='Predicted')\n",
        "plt.legend()\n",
        "plt.xlabel('Days')\n",
        "plt.ylabel('Closing Price')\n",
        "plt.savefig(f'Future_{time_ahead}_days_data.csv.png', bbox_inches =\"tight\", dpi = 720)\n",
        "plt.show()"
      ],
      "metadata": {
        "colab": {
          "base_uri": "https://localhost:8080/",
          "height": 285
        },
        "id": "01lniOE0882z",
        "outputId": "b18f53a3-ec13-44e4-c0e0-383d45a801a8"
      },
      "execution_count": null,
      "outputs": [
        {
          "output_type": "display_data",
          "data": {
            "text/plain": [
              "<Figure size 792x288 with 1 Axes>"
            ],
            "image/png": "[encoded data removed]"
          },
          "metadata": {}
        }
      ]
    },
    {
      "cell_type": "code",
      "source": [
        "plt.figure(figsize=(10, 6))\n",
        "plt.ylim(0.0,0.006 )\n",
        "plt.plot(history.history['loss'])\n",
        "plt.plot(history.history['val_loss'])\n",
        "plt.title('model loss')\n",
        "plt.ylabel('loss')\n",
        "plt.xlabel('epoch')\n",
        "plt.legend(['train', 'validation'], loc='upper right')\n",
        "plt.savefig('train_valide_loss_main.png')\n",
        "plt.show()"
      ],
      "metadata": {
        "colab": {
          "base_uri": "https://localhost:8080/",
          "height": 410
        },
        "id": "ah1rNY0eCTRu",
        "outputId": "ddb5ffc9-7662-4cc1-d505-85c8cc0a2ee3"
      },
      "execution_count": null,
      "outputs": [
        {
          "output_type": "display_data",
          "data": {
            "text/plain": [
              "<Figure size 720x432 with 1 Axes>"
            ],
            "image/png": "[encoded data removed]"
          },
          "metadata": {}
        }
      ]
    },
    {
      "cell_type": "markdown",
      "source": [
        "#CDF\n",
        "#RMSE"
      ],
      "metadata": {
        "id": "j38_lalVVA1n"
      }
    },
    {
      "cell_type": "code",
      "source": [
        "train_predict=final.predict(X_train)"
      ],
      "metadata": {
        "id": "mD9WrqHH-D3S"
      },
      "execution_count": null,
      "outputs": []
    },
    {
      "cell_type": "code",
      "source": [
        "import math\n",
        "from sklearn.metrics import mean_squared_error\n",
        "\n",
        "\n",
        "a = math.sqrt(mean_squared_error(y_train,train_predict))\n",
        "print('train_error',a)\n",
        "\n"
      ],
      "metadata": {
        "colab": {
          "base_uri": "https://localhost:8080/"
        },
        "id": "vYKd_B0394W0",
        "outputId": "1d2e1e5c-30b8-4edf-bdb5-ac4f823100c8"
      },
      "execution_count": null,
      "outputs": [
        {
          "output_type": "stream",
          "name": "stdout",
          "text": [
            "train_error 0.015149477445049386\n"
          ]
        }
      ]
    },
    {
      "cell_type": "code",
      "source": [
        "all = math.sqrt(mean_squared_error(ytest,test_predict))\n",
        "print(X_test.shape)\n",
        "print(test_predict.shape)\n",
        "print('test_error',all)"
      ],
      "metadata": {
        "colab": {
          "base_uri": "https://localhost:8080/"
        },
        "id": "l7n2yk-n-XT2",
        "outputId": "4d1404ae-cde9-463b-a61b-eafeb5f2b15c"
      },
      "execution_count": null,
      "outputs": [
        {
          "output_type": "stream",
          "name": "stdout",
          "text": [
            "(1001, 60, 1)\n",
            "(1001, 1)\n",
            "test_error 0.012329169775927101\n"
          ]
        }
      ]
    },
    {
      "cell_type": "code",
      "source": [
        "error_val = []\n",
        "m_val = []\n",
        "m = 200\n",
        "for i in range(test_predict.shape[0]):\n",
        "  if m<test_predict.shape[0]:\n",
        "    m_val.append(m)\n",
        "    val = math.sqrt(mean_squared_error(ytest[:m],test_predict[:m]))\n",
        "    error_val.append(val)\n",
        "    m = m +200\n",
        "m_val.append(test_predict.shape[0])\n",
        "error_val.append(all)"
      ],
      "metadata": {
        "id": "h4kTXmzM_ZB6"
      },
      "execution_count": null,
      "outputs": []
    },
    {
      "cell_type": "code",
      "source": [
        "new_val = {'Test set split':m_val, 'error':error_val}\n",
        "error_test = pd.DataFrame(new_val)\n",
        "error_test"
      ],
      "metadata": {
        "colab": {
          "base_uri": "https://localhost:8080/",
          "height": 237
        },
        "id": "G7zRNX7F_lZ5",
        "outputId": "630ef0c6-bc46-4d53-aec0-806b4b1a9611"
      },
      "execution_count": null,
      "outputs": [
        {
          "output_type": "execute_result",
          "data": {
            "text/plain": [
              "   Test set split     error\n",
              "0             200  0.018253\n",
              "1             400  0.014878\n",
              "2             600  0.012972\n",
              "3             800  0.012961\n",
              "4            1000  0.012335\n",
              "5            1001  0.012329"
            ],
            "text/html": [
              "\n",
              "  <div id=\"df-43fc3d15-6a82-459c-8c2b-85178d754415\">\n",
              "    <div class=\"colab-df-container\">\n",
              "      <div>\n",
              "<style scoped>\n",
              "    .dataframe tbody tr th:only-of-type {\n",
              "        vertical-align: middle;\n",
              "    }\n",
              "\n",
              "    .dataframe tbody tr th {\n",
              "        vertical-align: top;\n",
              "    }\n",
              "\n",
              "    .dataframe thead th {\n",
              "        text-align: right;\n",
              "    }\n",
              "</style>\n",
              "<table border=\"1\" class=\"dataframe\">\n",
              "  <thead>\n",
              "    <tr style=\"text-align: right;\">\n",
              "      <th></th>\n",
              "      <th>Test set split</th>\n",
              "      <th>error</th>\n",
              "    </tr>\n",
              "  </thead>\n",
              "  <tbody>\n",
              "    <tr>\n",
              "      <th>0</th>\n",
              "      <td>200</td>\n",
              "      <td>0.018253</td>\n",
              "    </tr>\n",
              "    <tr>\n",
              "      <th>1</th>\n",
              "      <td>400</td>\n",
              "      <td>0.014878</td>\n",
              "    </tr>\n",
              "    <tr>\n",
              "      <th>2</th>\n",
              "      <td>600</td>\n",
              "      <td>0.012972</td>\n",
              "    </tr>\n",
              "    <tr>\n",
              "      <th>3</th>\n",
              "      <td>800</td>\n",
              "      <td>0.012961</td>\n",
              "    </tr>\n",
              "    <tr>\n",
              "      <th>4</th>\n",
              "      <td>1000</td>\n",
              "      <td>0.012335</td>\n",
              "    </tr>\n",
              "    <tr>\n",
              "      <th>5</th>\n",
              "      <td>1001</td>\n",
              "      <td>0.012329</td>\n",
              "    </tr>\n",
              "  </tbody>\n",
              "</table>\n",
              "</div>\n",
              "      <button class=\"colab-df-convert\" onclick=\"convertToInteractive('df-43fc3d15-6a82-459c-8c2b-85178d754415')\"\n",
              "              title=\"Convert this dataframe to an interactive table.\"\n",
              "              style=\"display:none;\">\n",
              "        \n",
              "  <svg xmlns=\"http://www.w3.org/2000/svg\" height=\"24px\"viewBox=\"0 0 24 24\"\n",
              "       width=\"24px\">\n",
              "    <path d=\"M0 0h24v24H0V0z\" fill=\"none\"/>\n",
              "    <path d=\"M18.56 5.44l.94 2.06.94-2.06 2.06-.94-2.06-.94-.94-2.06-.94 2.06-2.06.94zm-11 1L8.5 8.5l.94-2.06 2.06-.94-2.06-.94L8.5 2.5l-.94 2.06-2.06.94zm10 10l.94 2.06.94-2.06 2.06-.94-2.06-.94-.94-2.06-.94 2.06-2.06.94z\"/><path d=\"M17.41 7.96l-1.37-1.37c-.4-.4-.92-.59-1.43-.59-.52 0-1.04.2-1.43.59L10.3 9.45l-7.72 7.72c-.78.78-.78 2.05 0 2.83L4 21.41c.39.39.9.59 1.41.59.51 0 1.02-.2 1.41-.59l7.78-7.78 2.81-2.81c.8-.78.8-2.07 0-2.86zM5.41 20L4 18.59l7.72-7.72 1.47 1.35L5.41 20z\"/>\n",
              "  </svg>\n",
              "      </button>\n",
              "      \n",
              "  <style>\n",
              "    .colab-df-container {\n",
              "      display:flex;\n",
              "      flex-wrap:wrap;\n",
              "      gap: 12px;\n",
              "    }\n",
              "\n",
              "    .colab-df-convert {\n",
              "      background-color: #E8F0FE;\n",
              "      border: none;\n",
              "      border-radius: 50%;\n",
              "      cursor: pointer;\n",
              "      display: none;\n",
              "      fill: #1967D2;\n",
              "      height: 32px;\n",
              "      padding: 0 0 0 0;\n",
              "      width: 32px;\n",
              "    }\n",
              "\n",
              "    .colab-df-convert:hover {\n",
              "      background-color: #E2EBFA;\n",
              "      box-shadow: 0px 1px 2px rgba(60, 64, 67, 0.3), 0px 1px 3px 1px rgba(60, 64, 67, 0.15);\n",
              "      fill: #174EA6;\n",
              "    }\n",
              "\n",
              "    [theme=dark] .colab-df-convert {\n",
              "      background-color: #3B4455;\n",
              "      fill: #D2E3FC;\n",
              "    }\n",
              "\n",
              "    [theme=dark] .colab-df-convert:hover {\n",
              "      background-color: #434B5C;\n",
              "      box-shadow: 0px 1px 3px 1px rgba(0, 0, 0, 0.15);\n",
              "      filter: drop-shadow(0px 1px 2px rgba(0, 0, 0, 0.3));\n",
              "      fill: #FFFFFF;\n",
              "    }\n",
              "  </style>\n",
              "\n",
              "      <script>\n",
              "        const buttonEl =\n",
              "          document.querySelector('#df-43fc3d15-6a82-459c-8c2b-85178d754415 button.colab-df-convert');\n",
              "        buttonEl.style.display =\n",
              "          google.colab.kernel.accessAllowed ? 'block' : 'none';\n",
              "\n",
              "        async function convertToInteractive(key) {\n",
              "          const element = document.querySelector('#df-43fc3d15-6a82-459c-8c2b-85178d754415');\n",
              "          const dataTable =\n",
              "            await google.colab.kernel.invokeFunction('convertToInteractive',\n",
              "                                                     [key], {});\n",
              "          if (!dataTable) return;\n",
              "\n",
              "          const docLinkHtml = 'Like what you see? Visit the ' +\n",
              "            '<a target=\"_blank\" href=https://colab.research.google.com/notebooks/data_table.ipynb>data table notebook</a>'\n",
              "            + ' to learn more about interactive tables.';\n",
              "          element.innerHTML = '';\n",
              "          dataTable['output_type'] = 'display_data';\n",
              "          await google.colab.output.renderOutput(dataTable, element);\n",
              "          const docLink = document.createElement('div');\n",
              "          docLink.innerHTML = docLinkHtml;\n",
              "          element.appendChild(docLink);\n",
              "        }\n",
              "      </script>\n",
              "    </div>\n",
              "  </div>\n",
              "  "
            ]
          },
          "metadata": {},
          "execution_count": 38
        }
      ]
    },
    {
      "cell_type": "code",
      "source": [
        "error_test.to_csv('rmse_test_split_error.csv', index = False)"
      ],
      "metadata": {
        "id": "FdOhH_MZ_zcz"
      },
      "execution_count": null,
      "outputs": []
    },
    {
      "cell_type": "code",
      "source": [
        "error_list = []\n",
        "window_size = 20\n",
        "i1 = 0\n",
        "for i in range(X_test.shape[0]):\n",
        "  i2 = i1 + window_size\n",
        "  if i1<X_test.shape[0] and i2<X_test.shape[0]:\n",
        "    cdf_predict=final.predict(X_test[i1:i2])\n",
        "    val = math.sqrt(mean_squared_error(ytest[i1:i2],cdf_predict))\n",
        "    error_list.append(val)\n",
        "    i1 = i2\n",
        "\n",
        "error_list = sorted(error_list)"
      ],
      "metadata": {
        "id": "Nam99QH9ALbd"
      },
      "execution_count": null,
      "outputs": []
    },
    {
      "cell_type": "code",
      "source": [
        "x = np.sort(error_list)\n",
        "y = np.arange(len(x))/float(len(x))\n",
        "\n",
        "plt.plot(x, y, label='test')\n",
        "plt.ylabel('CDF')\n",
        "plt.xlabel('RMSE')\n",
        "plt.savefig('rmse_error_cdf.png')\n",
        "plt.show()"
      ],
      "metadata": {
        "colab": {
          "base_uri": "https://localhost:8080/",
          "height": 285
        },
        "id": "cZfc8PmjBK93",
        "outputId": "32220a74-fe95-4d3b-c1cf-28793e23c322"
      },
      "execution_count": null,
      "outputs": [
        {
          "output_type": "display_data",
          "data": {
            "text/plain": [
              "<Figure size 792x288 with 1 Axes>"
            ],
            "image/png": "[encoded data removed]"
          },
          "metadata": {}
        }
      ]
    },
    {
      "cell_type": "code",
      "source": [
        "error_name = 'root_mean_squared_error'"
      ],
      "metadata": {
        "id": "5_v_QnMHBsKu"
      },
      "execution_count": null,
      "outputs": []
    },
    {
      "cell_type": "code",
      "source": [
        "data = {error_name: error_list, 'cdf':y}\n",
        "cdf1 = pd.DataFrame(data)\n",
        "cdf1.head()"
      ],
      "metadata": {
        "colab": {
          "base_uri": "https://localhost:8080/",
          "height": 206
        },
        "id": "GFVe3cVtBXKi",
        "outputId": "a05baeb2-5891-4f19-93a8-59f826dfaa85"
      },
      "execution_count": null,
      "outputs": [
        {
          "output_type": "execute_result",
          "data": {
            "text/plain": [
              "   root_mean_squared_error   cdf\n",
              "0                 0.005444  0.00\n",
              "1                 0.005483  0.02\n",
              "2                 0.005676  0.04\n",
              "3                 0.005893  0.06\n",
              "4                 0.006161  0.08"
            ],
            "text/html": [
              "\n",
              "  <div id=\"df-99561763-46d1-4332-b465-4e47139908d6\">\n",
              "    <div class=\"colab-df-container\">\n",
              "      <div>\n",
              "<style scoped>\n",
              "    .dataframe tbody tr th:only-of-type {\n",
              "        vertical-align: middle;\n",
              "    }\n",
              "\n",
              "    .dataframe tbody tr th {\n",
              "        vertical-align: top;\n",
              "    }\n",
              "\n",
              "    .dataframe thead th {\n",
              "        text-align: right;\n",
              "    }\n",
              "</style>\n",
              "<table border=\"1\" class=\"dataframe\">\n",
              "  <thead>\n",
              "    <tr style=\"text-align: right;\">\n",
              "      <th></th>\n",
              "      <th>root_mean_squared_error</th>\n",
              "      <th>cdf</th>\n",
              "    </tr>\n",
              "  </thead>\n",
              "  <tbody>\n",
              "    <tr>\n",
              "      <th>0</th>\n",
              "      <td>0.005444</td>\n",
              "      <td>0.00</td>\n",
              "    </tr>\n",
              "    <tr>\n",
              "      <th>1</th>\n",
              "      <td>0.005483</td>\n",
              "      <td>0.02</td>\n",
              "    </tr>\n",
              "    <tr>\n",
              "      <th>2</th>\n",
              "      <td>0.005676</td>\n",
              "      <td>0.04</td>\n",
              "    </tr>\n",
              "    <tr>\n",
              "      <th>3</th>\n",
              "      <td>0.005893</td>\n",
              "      <td>0.06</td>\n",
              "    </tr>\n",
              "    <tr>\n",
              "      <th>4</th>\n",
              "      <td>0.006161</td>\n",
              "      <td>0.08</td>\n",
              "    </tr>\n",
              "  </tbody>\n",
              "</table>\n",
              "</div>\n",
              "      <button class=\"colab-df-convert\" onclick=\"convertToInteractive('df-99561763-46d1-4332-b465-4e47139908d6')\"\n",
              "              title=\"Convert this dataframe to an interactive table.\"\n",
              "              style=\"display:none;\">\n",
              "        \n",
              "  <svg xmlns=\"http://www.w3.org/2000/svg\" height=\"24px\"viewBox=\"0 0 24 24\"\n",
              "       width=\"24px\">\n",
              "    <path d=\"M0 0h24v24H0V0z\" fill=\"none\"/>\n",
              "    <path d=\"M18.56 5.44l.94 2.06.94-2.06 2.06-.94-2.06-.94-.94-2.06-.94 2.06-2.06.94zm-11 1L8.5 8.5l.94-2.06 2.06-.94-2.06-.94L8.5 2.5l-.94 2.06-2.06.94zm10 10l.94 2.06.94-2.06 2.06-.94-2.06-.94-.94-2.06-.94 2.06-2.06.94z\"/><path d=\"M17.41 7.96l-1.37-1.37c-.4-.4-.92-.59-1.43-.59-.52 0-1.04.2-1.43.59L10.3 9.45l-7.72 7.72c-.78.78-.78 2.05 0 2.83L4 21.41c.39.39.9.59 1.41.59.51 0 1.02-.2 1.41-.59l7.78-7.78 2.81-2.81c.8-.78.8-2.07 0-2.86zM5.41 20L4 18.59l7.72-7.72 1.47 1.35L5.41 20z\"/>\n",
              "  </svg>\n",
              "      </button>\n",
              "      \n",
              "  <style>\n",
              "    .colab-df-container {\n",
              "      display:flex;\n",
              "      flex-wrap:wrap;\n",
              "      gap: 12px;\n",
              "    }\n",
              "\n",
              "    .colab-df-convert {\n",
              "      background-color: #E8F0FE;\n",
              "      border: none;\n",
              "      border-radius: 50%;\n",
              "      cursor: pointer;\n",
              "      display: none;\n",
              "      fill: #1967D2;\n",
              "      height: 32px;\n",
              "      padding: 0 0 0 0;\n",
              "      width: 32px;\n",
              "    }\n",
              "\n",
              "    .colab-df-convert:hover {\n",
              "      background-color: #E2EBFA;\n",
              "      box-shadow: 0px 1px 2px rgba(60, 64, 67, 0.3), 0px 1px 3px 1px rgba(60, 64, 67, 0.15);\n",
              "      fill: #174EA6;\n",
              "    }\n",
              "\n",
              "    [theme=dark] .colab-df-convert {\n",
              "      background-color: #3B4455;\n",
              "      fill: #D2E3FC;\n",
              "    }\n",
              "\n",
              "    [theme=dark] .colab-df-convert:hover {\n",
              "      background-color: #434B5C;\n",
              "      box-shadow: 0px 1px 3px 1px rgba(0, 0, 0, 0.15);\n",
              "      filter: drop-shadow(0px 1px 2px rgba(0, 0, 0, 0.3));\n",
              "      fill: #FFFFFF;\n",
              "    }\n",
              "  </style>\n",
              "\n",
              "      <script>\n",
              "        const buttonEl =\n",
              "          document.querySelector('#df-99561763-46d1-4332-b465-4e47139908d6 button.colab-df-convert');\n",
              "        buttonEl.style.display =\n",
              "          google.colab.kernel.accessAllowed ? 'block' : 'none';\n",
              "\n",
              "        async function convertToInteractive(key) {\n",
              "          const element = document.querySelector('#df-99561763-46d1-4332-b465-4e47139908d6');\n",
              "          const dataTable =\n",
              "            await google.colab.kernel.invokeFunction('convertToInteractive',\n",
              "                                                     [key], {});\n",
              "          if (!dataTable) return;\n",
              "\n",
              "          const docLinkHtml = 'Like what you see? Visit the ' +\n",
              "            '<a target=\"_blank\" href=https://colab.research.google.com/notebooks/data_table.ipynb>data table notebook</a>'\n",
              "            + ' to learn more about interactive tables.';\n",
              "          element.innerHTML = '';\n",
              "          dataTable['output_type'] = 'display_data';\n",
              "          await google.colab.output.renderOutput(dataTable, element);\n",
              "          const docLink = document.createElement('div');\n",
              "          docLink.innerHTML = docLinkHtml;\n",
              "          element.appendChild(docLink);\n",
              "        }\n",
              "      </script>\n",
              "    </div>\n",
              "  </div>\n",
              "  "
            ]
          },
          "metadata": {},
          "execution_count": 43
        }
      ]
    },
    {
      "cell_type": "code",
      "source": [
        "cdf1.to_csv('rmse_error_cdf.csv', index = False)"
      ],
      "metadata": {
        "id": "wRI8QXmaB6iu"
      },
      "execution_count": null,
      "outputs": []
    },
    {
      "cell_type": "markdown",
      "source": [
        "#MAPE"
      ],
      "metadata": {
        "id": "Xi9AJri2f6TA"
      }
    },
    {
      "cell_type": "code",
      "source": [
        "def Mean_Absolute_Percentage_Error(y_true, y_pred):\n",
        "    y_true, y_pred = np.array(y_true), np.array(y_pred)\n",
        "    return np.mean(np.abs(((y_true - y_pred)) / (y_true))) * 100"
      ],
      "metadata": {
        "id": "etCCSyl-fvVQ"
      },
      "execution_count": null,
      "outputs": []
    },
    {
      "cell_type": "code",
      "source": [
        "error_name = 'mean_absolute_percentage_error'"
      ],
      "metadata": {
        "id": "jrjJ0gfhf8WH"
      },
      "execution_count": null,
      "outputs": []
    },
    {
      "cell_type": "code",
      "source": [
        "x =  (Mean_Absolute_Percentage_Error(y_train,train_predict))\n",
        "print('train_error',x)"
      ],
      "metadata": {
        "colab": {
          "base_uri": "https://localhost:8080/"
        },
        "id": "sEMdFAPaOZCY",
        "outputId": "7cb7cd7d-086b-44ea-9aa1-21faf5c4f5e0"
      },
      "execution_count": null,
      "outputs": [
        {
          "output_type": "stream",
          "name": "stdout",
          "text": [
            "train_error inf\n"
          ]
        },
        {
          "output_type": "stream",
          "name": "stderr",
          "text": [
            "/usr/local/lib/python3.7/dist-packages/ipykernel_launcher.py:3: RuntimeWarning: divide by zero encountered in true_divide\n",
            "  This is separate from the ipykernel package so we can avoid doing imports until\n"
          ]
        }
      ]
    },
    {
      "cell_type": "code",
      "source": [
        "all = (Mean_Absolute_Percentage_Error(ytest,test_predict))\n",
        "print(all)"
      ],
      "metadata": {
        "colab": {
          "base_uri": "https://localhost:8080/"
        },
        "id": "IF9eYbppf-Bf",
        "outputId": "4203d838-5aaf-4df9-89b5-6b1a18a82059"
      },
      "execution_count": null,
      "outputs": [
        {
          "output_type": "stream",
          "name": "stdout",
          "text": [
            "31.861678788333652\n"
          ]
        }
      ]
    },
    {
      "cell_type": "code",
      "source": [
        "error_val = []\n",
        "m_val = []\n",
        "m = 200\n",
        "for i in range(test_predict.shape[0]):\n",
        "  if m<test_predict.shape[0]:\n",
        "    m_val.append(m)\n",
        "    val = (Mean_Absolute_Percentage_Error(ytest[:m],test_predict[:m]))\n",
        "    error_val.append(val)\n",
        "    m = m +200\n",
        "m_val.append(test_predict.shape[0])\n",
        "error_val.append(all)\n",
        "\n",
        "new_val = {'Test set split':m_val, error_name:error_val}\n",
        "error_test = pd.DataFrame(new_val)\n",
        "\n",
        "error_test.to_csv('mape_test_split_error.csv', index = False)"
      ],
      "metadata": {
        "id": "8rTLuG_bgBae"
      },
      "execution_count": null,
      "outputs": []
    },
    {
      "cell_type": "code",
      "source": [
        "error_list = []\n",
        "window_size = 20\n",
        "i1 = 0\n",
        "for i in range(X_test.shape[0]):\n",
        "  i2 = i1+window_size\n",
        "  if i1<X_test.shape[0] and i2<X_test.shape[0]:\n",
        "    cdf_predict=final.predict(X_test[i1:i2])\n",
        "    val = (Mean_Absolute_Percentage_Error(ytest[i1:i2],cdf_predict))\n",
        "    error_list.append(val)\n",
        "    i1 = i2\n",
        "\n",
        "error_list = sorted(error_list)"
      ],
      "metadata": {
        "id": "PWTsvaqjgDN7"
      },
      "execution_count": null,
      "outputs": []
    },
    {
      "cell_type": "code",
      "source": [
        "x = np.sort(error_list)\n",
        "y = np.arange(len(x))/float(len(x))\n",
        "plt.plot(x, y)\n",
        "plt.ylabel('CDF')\n",
        "plt.xlabel('MAPE')\n",
        "plt.savefig('mape_error_cdf.png', bbox_inches =\"tight\", dpi = 720)\n",
        "plt.show()"
      ],
      "metadata": {
        "colab": {
          "base_uri": "https://localhost:8080/",
          "height": 285
        },
        "id": "BvxLK8QKgGhF",
        "outputId": "7f72cbd7-0824-4656-86ce-1fa1b7dd7121"
      },
      "execution_count": null,
      "outputs": [
        {
          "output_type": "display_data",
          "data": {
            "text/plain": [
              "<Figure size 792x288 with 1 Axes>"
            ],
            "image/png": "[encoded data removed]"
          },
          "metadata": {}
        }
      ]
    },
    {
      "cell_type": "code",
      "source": [
        "data1 = {error_name:x, 'cdf':y}\n",
        "cdf1 = pd.DataFrame(data1)\n",
        "cdf1.to_csv('rmse_error_cdf.csv', index = False)"
      ],
      "metadata": {
        "id": "V1GARRIMg-yK"
      },
      "execution_count": null,
      "outputs": []
    },
    {
      "cell_type": "markdown",
      "source": [
        "#MSLE"
      ],
      "metadata": {
        "id": "NzwFuczvQIPZ"
      }
    },
    {
      "cell_type": "code",
      "source": [
        "from sklearn.metrics import mean_squared_log_error\n",
        "x = (mean_squared_log_error(y_train,train_predict))\n",
        "print('train_error',x)\n",
        "x = (mean_squared_log_error(ytest,test_predict))\n",
        "print('test_error',x)"
      ],
      "metadata": {
        "colab": {
          "base_uri": "https://localhost:8080/"
        },
        "id": "YC_9iU48QJ-9",
        "outputId": "b2f3a76f-7cd8-43b0-f743-cc55a713e081"
      },
      "execution_count": null,
      "outputs": [
        {
          "output_type": "stream",
          "name": "stdout",
          "text": [
            "train_error 0.00010723360444353648\n",
            "test_error 8.460443076823203e-05\n"
          ]
        }
      ]
    },
    {
      "cell_type": "markdown",
      "source": [
        "#R2-Score"
      ],
      "metadata": {
        "id": "ktJ8tGuwhEY4"
      }
    },
    {
      "cell_type": "code",
      "source": [
        "from sklearn.metrics import r2_score\n",
        "error_name = 'r2_score'"
      ],
      "metadata": {
        "id": "A3ji1XaMhDsR"
      },
      "execution_count": null,
      "outputs": []
    },
    {
      "cell_type": "code",
      "source": [
        "x = (r2_score(y_train,train_predict))\n",
        "print('train_error',x)"
      ],
      "metadata": {
        "colab": {
          "base_uri": "https://localhost:8080/"
        },
        "id": "3ocQhux3Ojvu",
        "outputId": "f0adeb83-8d1a-4642-9fd3-2a12f3efeb01"
      },
      "execution_count": null,
      "outputs": [
        {
          "output_type": "stream",
          "name": "stdout",
          "text": [
            "train_error 0.993965242978392\n"
          ]
        }
      ]
    },
    {
      "cell_type": "code",
      "source": [
        "all = (r2_score(ytest,test_predict))\n",
        "print(all)"
      ],
      "metadata": {
        "colab": {
          "base_uri": "https://localhost:8080/"
        },
        "id": "EZvkQycRhQKb",
        "outputId": "3ac19554-6906-456d-b035-fe554d7129e5"
      },
      "execution_count": null,
      "outputs": [
        {
          "output_type": "stream",
          "name": "stdout",
          "text": [
            "0.982142248368125\n"
          ]
        }
      ]
    },
    {
      "cell_type": "code",
      "source": [
        "error_val = []\n",
        "m_val = []\n",
        "m = 200\n",
        "for i in range(test_predict.shape[0]):\n",
        "  if m<test_predict.shape[0]:\n",
        "    m_val.append(m)\n",
        "    val = (r2_score(ytest[:m],test_predict[:m]))\n",
        "    error_val.append(val)\n",
        "    m = m +200\n",
        "m_val.append(test_predict.shape[0])\n",
        "error_val.append(all)\n",
        "\n",
        "new_val = {'Test set split':m_val, error_name:error_val}\n",
        "error_test = pd.DataFrame(new_val)\n",
        "\n",
        "error_test.to_csv('R2_test_split_error.csv', index = False)"
      ],
      "metadata": {
        "id": "Uak9p7EdhSrm"
      },
      "execution_count": null,
      "outputs": []
    },
    {
      "cell_type": "code",
      "source": [
        "error_list = []\n",
        "window_size = 20\n",
        "i1 = 0\n",
        "for i in range(X_test.shape[0]):\n",
        "  i2 = i1+window_size\n",
        "  if i1<X_test.shape[0] and i2<X_test.shape[0]:\n",
        "    cdf_predict=final.predict(X_test[i1:i2])\n",
        "    val = (r2_score(ytest[i1:i2],cdf_predict))\n",
        "    error_list.append(val)\n",
        "    i1 = i2\n",
        "\n",
        "error_list = sorted(error_list)"
      ],
      "metadata": {
        "id": "wgrsSzPPhX0x"
      },
      "execution_count": null,
      "outputs": []
    },
    {
      "cell_type": "code",
      "source": [
        "x = np.sort(error_list)\n",
        "y = np.arange(len(x))/float(len(x))\n",
        "plt.plot(x, y)\n",
        "plt.ylabel('CDF')\n",
        "plt.xlabel('R^2 Score')\n",
        "plt.savefig('r2_error_cdf.png', bbox_inches =\"tight\", dpi = 720)\n",
        "plt.show()"
      ],
      "metadata": {
        "colab": {
          "base_uri": "https://localhost:8080/",
          "height": 285
        },
        "id": "I3lvzK_Thb30",
        "outputId": "aec914f0-8013-45db-e42a-6d94ab93314f"
      },
      "execution_count": null,
      "outputs": [
        {
          "output_type": "display_data",
          "data": {
            "text/plain": [
              "<Figure size 792x288 with 1 Axes>"
            ],
            "image/png": "[encoded data removed]"
          },
          "metadata": {}
        }
      ]
    },
    {
      "cell_type": "code",
      "source": [
        "data1 = {error_name:x, 'cdf':y}\n",
        "cdf1 = pd.DataFrame(data1)\n",
        "cdf1.to_csv('r2_error_cdf.csv', index = False)"
      ],
      "metadata": {
        "id": "FQhduV5YhkaT"
      },
      "execution_count": null,
      "outputs": []
    },
    {
      "cell_type": "markdown",
      "source": [
        "#BiLSTM"
      ],
      "metadata": {
        "id": "GQdd5nq2htzx"
      }
    },
    {
      "cell_type": "code",
      "source": [
        "st = Input(shape= (None,1), name=\"input\")\n",
        "x = Bidirectional(LSTM(64, return_sequences=True, activation = \"tanh\"))(st)\n",
        "x = Bidirectional(LSTM(64, activation = \"tanh\"))(x)\n",
        "x = Dense(32, activation = \"relu\")(x)\n",
        "x = Dense(16, activation = \"relu\")(x)\n",
        "end = Dense(1)(x)\n",
        "final_lstm = Model(inputs=st, outputs=end)"
      ],
      "metadata": {
        "id": "KjX_07QGhs3a"
      },
      "execution_count": null,
      "outputs": []
    },
    {
      "cell_type": "code",
      "source": [],
      "metadata": {
        "id": "TWgzss152pxN"
      },
      "execution_count": null,
      "outputs": []
    },
    {
      "cell_type": "code",
      "source": [
        "final_lstm.summary()"
      ],
      "metadata": {
        "colab": {
          "base_uri": "https://localhost:8080/"
        },
        "id": "eo6GRSn82jVW",
        "outputId": "0bae743c-3efc-409b-a2d2-41a592324fad"
      },
      "execution_count": null,
      "outputs": [
        {
          "output_type": "stream",
          "name": "stdout",
          "text": [
            "Model: \"model_1\"\n",
            "_________________________________________________________________\n",
            " Layer (type)                Output Shape              Param #   \n",
            "=================================================================\n",
            " input (InputLayer)          [(None, None, 1)]         0         \n",
            "                                                                 \n",
            " bidirectional (Bidirectiona  (None, None, 128)        33792     \n",
            " l)                                                              \n",
            "                                                                 \n",
            " bidirectional_1 (Bidirectio  (None, 128)              98816     \n",
            " nal)                                                            \n",
            "                                                                 \n",
            " dense_2 (Dense)             (None, 32)                4128      \n",
            "                                                                 \n",
            " dense_3 (Dense)             (None, 16)                528       \n",
            "                                                                 \n",
            " dense_4 (Dense)             (None, 1)                 17        \n",
            "                                                                 \n",
            "=================================================================\n",
            "Total params: 137,281\n",
            "Trainable params: 137,281\n",
            "Non-trainable params: 0\n",
            "_________________________________________________________________\n"
          ]
        }
      ]
    },
    {
      "cell_type": "code",
      "source": [
        "final_lstm.compile(loss=loss_function,optimizer='adam')\n",
        "filepath=\"model_update_lstm.h5\"\n",
        "checkpoint = callbacks.ModelCheckpoint(filepath, monitor='val_loss',save_best_only=True, mode='min',verbose=1)\n",
        "callbacks_list = [checkpoint]\n",
        "\n",
        "print('Training started ... ...')\n",
        "t1 = time.time()\n",
        "history_lstm = final_lstm.fit(X_train,y_train,validation_data=(X_test,ytest), epochs=epochs, batch_size=64, verbose=1, callbacks=callbacks_list)\n",
        "\n",
        "print('-  -   -   -   -   -   -   -   -   -   -   -   -   -   -   -   -')\n",
        "t2 = time.time()\n",
        "print('Training Time: ', (t2-t1)/60.0, 'Minutes')\n"
      ],
      "metadata": {
        "colab": {
          "base_uri": "https://localhost:8080/"
        },
        "id": "SQAcTy5C3C2f",
        "outputId": "1352f259-f4b8-4b18-dc46-2b8e22db9a62"
      },
      "execution_count": null,
      "outputs": [
        {
          "output_type": "stream",
          "name": "stdout",
          "text": [
            "Training started ... ...\n",
            "Epoch 1/50\n",
            "66/66 [==============================] - ETA: 0s - loss: 0.0148\n",
            "Epoch 1: val_loss improved from inf to 0.00132, saving model to model_update_lstm.h5\n",
            "66/66 [==============================] - 14s 96ms/step - loss: 0.0148 - val_loss: 0.0013\n",
            "Epoch 2/50\n",
            "66/66 [==============================] - ETA: 0s - loss: 0.0016\n",
            "Epoch 2: val_loss improved from 0.00132 to 0.00099, saving model to model_update_lstm.h5\n",
            "66/66 [==============================] - 5s 69ms/step - loss: 0.0016 - val_loss: 9.9293e-04\n",
            "Epoch 3/50\n",
            "66/66 [==============================] - ETA: 0s - loss: 0.0011\n",
            "Epoch 3: val_loss improved from 0.00099 to 0.00080, saving model to model_update_lstm.h5\n",
            "66/66 [==============================] - 5s 69ms/step - loss: 0.0011 - val_loss: 7.9989e-04\n",
            "Epoch 4/50\n",
            "66/66 [==============================] - ETA: 0s - loss: 9.7079e-04\n",
            "Epoch 4: val_loss improved from 0.00080 to 0.00051, saving model to model_update_lstm.h5\n",
            "66/66 [==============================] - 5s 68ms/step - loss: 9.7079e-04 - val_loss: 5.1193e-04\n",
            "Epoch 5/50\n",
            "66/66 [==============================] - ETA: 0s - loss: 8.0799e-04\n",
            "Epoch 5: val_loss improved from 0.00051 to 0.00046, saving model to model_update_lstm.h5\n",
            "66/66 [==============================] - 5s 69ms/step - loss: 8.0799e-04 - val_loss: 4.6436e-04\n",
            "Epoch 6/50\n",
            "66/66 [==============================] - ETA: 0s - loss: 7.0773e-04\n",
            "Epoch 6: val_loss improved from 0.00046 to 0.00042, saving model to model_update_lstm.h5\n",
            "66/66 [==============================] - 5s 69ms/step - loss: 7.0773e-04 - val_loss: 4.2041e-04\n",
            "Epoch 7/50\n",
            "66/66 [==============================] - ETA: 0s - loss: 6.9863e-04\n",
            "Epoch 7: val_loss did not improve from 0.00042\n",
            "66/66 [==============================] - 5s 76ms/step - loss: 6.9863e-04 - val_loss: 4.7300e-04\n",
            "Epoch 8/50\n",
            "66/66 [==============================] - ETA: 0s - loss: 6.5348e-04\n",
            "Epoch 8: val_loss improved from 0.00042 to 0.00039, saving model to model_update_lstm.h5\n",
            "66/66 [==============================] - 5s 81ms/step - loss: 6.5348e-04 - val_loss: 3.8838e-04\n",
            "Epoch 9/50\n",
            "66/66 [==============================] - ETA: 0s - loss: 5.4770e-04\n",
            "Epoch 9: val_loss improved from 0.00039 to 0.00035, saving model to model_update_lstm.h5\n",
            "66/66 [==============================] - 5s 78ms/step - loss: 5.4770e-04 - val_loss: 3.5346e-04\n",
            "Epoch 10/50\n",
            "66/66 [==============================] - ETA: 0s - loss: 5.1756e-04\n",
            "Epoch 10: val_loss did not improve from 0.00035\n",
            "66/66 [==============================] - 5s 74ms/step - loss: 5.1756e-04 - val_loss: 5.5548e-04\n",
            "Epoch 11/50\n",
            "66/66 [==============================] - ETA: 0s - loss: 6.3354e-04\n",
            "Epoch 11: val_loss improved from 0.00035 to 0.00031, saving model to model_update_lstm.h5\n",
            "66/66 [==============================] - 5s 68ms/step - loss: 6.3354e-04 - val_loss: 3.1443e-04\n",
            "Epoch 12/50\n",
            "66/66 [==============================] - ETA: 0s - loss: 5.2439e-04\n",
            "Epoch 12: val_loss did not improve from 0.00031\n",
            "66/66 [==============================] - 5s 71ms/step - loss: 5.2439e-04 - val_loss: 5.9164e-04\n",
            "Epoch 13/50\n",
            "66/66 [==============================] - ETA: 0s - loss: 4.8319e-04\n",
            "Epoch 13: val_loss did not improve from 0.00031\n",
            "66/66 [==============================] - 4s 67ms/step - loss: 4.8319e-04 - val_loss: 4.7615e-04\n",
            "Epoch 14/50\n",
            "66/66 [==============================] - ETA: 0s - loss: 4.8344e-04\n",
            "Epoch 14: val_loss improved from 0.00031 to 0.00030, saving model to model_update_lstm.h5\n",
            "66/66 [==============================] - 5s 69ms/step - loss: 4.8344e-04 - val_loss: 2.9893e-04\n",
            "Epoch 15/50\n",
            "66/66 [==============================] - ETA: 0s - loss: 4.9217e-04\n",
            "Epoch 15: val_loss improved from 0.00030 to 0.00027, saving model to model_update_lstm.h5\n",
            "66/66 [==============================] - 4s 68ms/step - loss: 4.9217e-04 - val_loss: 2.7421e-04\n",
            "Epoch 16/50\n",
            "66/66 [==============================] - ETA: 0s - loss: 4.2058e-04\n",
            "Epoch 16: val_loss did not improve from 0.00027\n",
            "66/66 [==============================] - 5s 69ms/step - loss: 4.2058e-04 - val_loss: 2.8914e-04\n",
            "Epoch 17/50\n",
            "66/66 [==============================] - ETA: 0s - loss: 4.9188e-04\n",
            "Epoch 17: val_loss improved from 0.00027 to 0.00026, saving model to model_update_lstm.h5\n",
            "66/66 [==============================] - 5s 69ms/step - loss: 4.9188e-04 - val_loss: 2.6309e-04\n",
            "Epoch 18/50\n",
            "66/66 [==============================] - ETA: 0s - loss: 4.0157e-04\n",
            "Epoch 18: val_loss improved from 0.00026 to 0.00024, saving model to model_update_lstm.h5\n",
            "66/66 [==============================] - 5s 69ms/step - loss: 4.0157e-04 - val_loss: 2.4421e-04\n",
            "Epoch 19/50\n",
            "66/66 [==============================] - ETA: 0s - loss: 3.9811e-04\n",
            "Epoch 19: val_loss improved from 0.00024 to 0.00023, saving model to model_update_lstm.h5\n",
            "66/66 [==============================] - 5s 70ms/step - loss: 3.9811e-04 - val_loss: 2.3283e-04\n",
            "Epoch 20/50\n",
            "66/66 [==============================] - ETA: 0s - loss: 4.1640e-04\n",
            "Epoch 20: val_loss did not improve from 0.00023\n",
            "66/66 [==============================] - 4s 68ms/step - loss: 4.1640e-04 - val_loss: 4.0522e-04\n",
            "Epoch 21/50\n",
            "66/66 [==============================] - ETA: 0s - loss: 4.8803e-04\n",
            "Epoch 21: val_loss did not improve from 0.00023\n",
            "66/66 [==============================] - 4s 67ms/step - loss: 4.8803e-04 - val_loss: 2.9806e-04\n",
            "Epoch 22/50\n",
            "66/66 [==============================] - ETA: 0s - loss: 4.1258e-04\n",
            "Epoch 22: val_loss did not improve from 0.00023\n",
            "66/66 [==============================] - 4s 68ms/step - loss: 4.1258e-04 - val_loss: 2.7466e-04\n",
            "Epoch 23/50\n",
            "66/66 [==============================] - ETA: 0s - loss: 3.6756e-04\n",
            "Epoch 23: val_loss improved from 0.00023 to 0.00023, saving model to model_update_lstm.h5\n",
            "66/66 [==============================] - 5s 69ms/step - loss: 3.6756e-04 - val_loss: 2.2927e-04\n",
            "Epoch 24/50\n",
            "66/66 [==============================] - ETA: 0s - loss: 3.7892e-04\n",
            "Epoch 24: val_loss improved from 0.00023 to 0.00022, saving model to model_update_lstm.h5\n",
            "66/66 [==============================] - 5s 68ms/step - loss: 3.7892e-04 - val_loss: 2.2188e-04\n",
            "Epoch 25/50\n",
            "66/66 [==============================] - ETA: 0s - loss: 3.6588e-04\n",
            "Epoch 25: val_loss improved from 0.00022 to 0.00022, saving model to model_update_lstm.h5\n",
            "66/66 [==============================] - 4s 68ms/step - loss: 3.6588e-04 - val_loss: 2.1801e-04\n",
            "Epoch 26/50\n",
            "66/66 [==============================] - ETA: 0s - loss: 3.8612e-04\n",
            "Epoch 26: val_loss did not improve from 0.00022\n",
            "66/66 [==============================] - 4s 67ms/step - loss: 3.8612e-04 - val_loss: 2.4419e-04\n",
            "Epoch 27/50\n",
            "66/66 [==============================] - ETA: 0s - loss: 3.5425e-04\n",
            "Epoch 27: val_loss did not improve from 0.00022\n",
            "66/66 [==============================] - 4s 67ms/step - loss: 3.5425e-04 - val_loss: 2.7462e-04\n",
            "Epoch 28/50\n",
            "66/66 [==============================] - ETA: 0s - loss: 3.8119e-04\n",
            "Epoch 28: val_loss did not improve from 0.00022\n",
            "66/66 [==============================] - 4s 68ms/step - loss: 3.8119e-04 - val_loss: 2.2680e-04\n",
            "Epoch 29/50\n",
            "66/66 [==============================] - ETA: 0s - loss: 3.4215e-04\n",
            "Epoch 29: val_loss did not improve from 0.00022\n",
            "66/66 [==============================] - 4s 67ms/step - loss: 3.4215e-04 - val_loss: 2.9380e-04\n",
            "Epoch 30/50\n",
            "66/66 [==============================] - ETA: 0s - loss: 3.2455e-04\n",
            "Epoch 30: val_loss did not improve from 0.00022\n",
            "66/66 [==============================] - 4s 67ms/step - loss: 3.2455e-04 - val_loss: 2.2331e-04\n",
            "Epoch 31/50\n",
            "66/66 [==============================] - ETA: 0s - loss: 3.2324e-04\n",
            "Epoch 31: val_loss improved from 0.00022 to 0.00022, saving model to model_update_lstm.h5\n",
            "66/66 [==============================] - 5s 69ms/step - loss: 3.2324e-04 - val_loss: 2.1794e-04\n",
            "Epoch 32/50\n",
            "66/66 [==============================] - ETA: 0s - loss: 3.3397e-04\n",
            "Epoch 32: val_loss did not improve from 0.00022\n",
            "66/66 [==============================] - 4s 67ms/step - loss: 3.3397e-04 - val_loss: 2.9782e-04\n",
            "Epoch 33/50\n",
            "66/66 [==============================] - ETA: 0s - loss: 3.6327e-04\n",
            "Epoch 33: val_loss did not improve from 0.00022\n",
            "66/66 [==============================] - 4s 67ms/step - loss: 3.6327e-04 - val_loss: 2.3331e-04\n",
            "Epoch 34/50\n",
            "66/66 [==============================] - ETA: 0s - loss: 3.4185e-04\n",
            "Epoch 34: val_loss improved from 0.00022 to 0.00022, saving model to model_update_lstm.h5\n",
            "66/66 [==============================] - 5s 68ms/step - loss: 3.4185e-04 - val_loss: 2.1623e-04\n",
            "Epoch 35/50\n",
            "66/66 [==============================] - ETA: 0s - loss: 3.0836e-04\n",
            "Epoch 35: val_loss improved from 0.00022 to 0.00019, saving model to model_update_lstm.h5\n",
            "66/66 [==============================] - 5s 71ms/step - loss: 3.0836e-04 - val_loss: 1.9074e-04\n",
            "Epoch 36/50\n",
            "66/66 [==============================] - ETA: 0s - loss: 3.0611e-04\n",
            "Epoch 36: val_loss did not improve from 0.00019\n",
            "66/66 [==============================] - 4s 68ms/step - loss: 3.0611e-04 - val_loss: 7.1011e-04\n",
            "Epoch 37/50\n",
            "66/66 [==============================] - ETA: 0s - loss: 5.3164e-04\n",
            "Epoch 37: val_loss did not improve from 0.00019\n",
            "66/66 [==============================] - 4s 68ms/step - loss: 5.3164e-04 - val_loss: 3.3583e-04\n",
            "Epoch 38/50\n",
            "66/66 [==============================] - ETA: 0s - loss: 3.2326e-04\n",
            "Epoch 38: val_loss did not improve from 0.00019\n",
            "66/66 [==============================] - 4s 68ms/step - loss: 3.2326e-04 - val_loss: 2.0879e-04\n",
            "Epoch 39/50\n",
            "66/66 [==============================] - ETA: 0s - loss: 3.1237e-04\n",
            "Epoch 39: val_loss did not improve from 0.00019\n",
            "66/66 [==============================] - 4s 67ms/step - loss: 3.1237e-04 - val_loss: 2.8631e-04\n",
            "Epoch 40/50\n",
            "66/66 [==============================] - ETA: 0s - loss: 3.4490e-04\n",
            "Epoch 40: val_loss did not improve from 0.00019\n",
            "66/66 [==============================] - 4s 67ms/step - loss: 3.4490e-04 - val_loss: 1.9296e-04\n",
            "Epoch 41/50\n",
            "66/66 [==============================] - ETA: 0s - loss: 2.9416e-04\n",
            "Epoch 41: val_loss did not improve from 0.00019\n",
            "66/66 [==============================] - 4s 68ms/step - loss: 2.9416e-04 - val_loss: 1.9748e-04\n",
            "Epoch 42/50\n",
            "66/66 [==============================] - ETA: 0s - loss: 3.0163e-04\n",
            "Epoch 42: val_loss did not improve from 0.00019\n",
            "66/66 [==============================] - 4s 67ms/step - loss: 3.0163e-04 - val_loss: 2.2758e-04\n",
            "Epoch 43/50\n",
            "66/66 [==============================] - ETA: 0s - loss: 3.0388e-04\n",
            "Epoch 43: val_loss improved from 0.00019 to 0.00018, saving model to model_update_lstm.h5\n",
            "66/66 [==============================] - 4s 68ms/step - loss: 3.0388e-04 - val_loss: 1.8099e-04\n",
            "Epoch 44/50\n",
            "66/66 [==============================] - ETA: 0s - loss: 3.0030e-04\n",
            "Epoch 44: val_loss did not improve from 0.00018\n",
            "66/66 [==============================] - 4s 67ms/step - loss: 3.0030e-04 - val_loss: 1.9228e-04\n",
            "Epoch 45/50\n",
            "66/66 [==============================] - ETA: 0s - loss: 3.0046e-04\n",
            "Epoch 45: val_loss did not improve from 0.00018\n",
            "66/66 [==============================] - 4s 68ms/step - loss: 3.0046e-04 - val_loss: 2.5887e-04\n",
            "Epoch 46/50\n",
            "66/66 [==============================] - ETA: 0s - loss: 3.0002e-04\n",
            "Epoch 46: val_loss improved from 0.00018 to 0.00018, saving model to model_update_lstm.h5\n",
            "66/66 [==============================] - 5s 68ms/step - loss: 3.0002e-04 - val_loss: 1.8031e-04\n",
            "Epoch 47/50\n",
            "66/66 [==============================] - ETA: 0s - loss: 3.0766e-04\n",
            "Epoch 47: val_loss did not improve from 0.00018\n",
            "66/66 [==============================] - 4s 68ms/step - loss: 3.0766e-04 - val_loss: 2.1305e-04\n",
            "Epoch 48/50\n",
            "66/66 [==============================] - ETA: 0s - loss: 2.8444e-04\n",
            "Epoch 48: val_loss did not improve from 0.00018\n",
            "66/66 [==============================] - 4s 67ms/step - loss: 2.8444e-04 - val_loss: 2.0843e-04\n",
            "Epoch 49/50\n",
            "66/66 [==============================] - ETA: 0s - loss: 3.2276e-04\n",
            "Epoch 49: val_loss improved from 0.00018 to 0.00018, saving model to model_update_lstm.h5\n",
            "66/66 [==============================] - 5s 68ms/step - loss: 3.2276e-04 - val_loss: 1.7512e-04\n",
            "Epoch 50/50\n",
            "66/66 [==============================] - ETA: 0s - loss: 2.8731e-04\n",
            "Epoch 50: val_loss did not improve from 0.00018\n",
            "66/66 [==============================] - 4s 68ms/step - loss: 2.8731e-04 - val_loss: 1.7633e-04\n",
            "-  -   -   -   -   -   -   -   -   -   -   -   -   -   -   -   -\n",
            "Training Time:  3.9421762585639955 Minutes\n"
          ]
        }
      ]
    },
    {
      "cell_type": "code",
      "source": [
        "plt.figure(figsize=(10, 6))\n",
        "plt.ylim(0.0,0.003 )\n",
        "plt.plot(history_lstm.history['loss'])\n",
        "plt.plot(history_lstm.history['val_loss'])\n",
        "plt.title('LSTM model loss')\n",
        "plt.ylabel('loss')\n",
        "plt.xlabel('epoch')\n",
        "plt.legend(['train', 'validation'], loc='upper right')\n",
        "plt.show()"
      ],
      "metadata": {
        "colab": {
          "base_uri": "https://localhost:8080/",
          "height": 410
        },
        "id": "iL82VyVk9Ge0",
        "outputId": "2e0babbd-ba8b-4eb8-bfbc-3d89ac5ac5a6"
      },
      "execution_count": null,
      "outputs": [
        {
          "output_type": "display_data",
          "data": {
            "text/plain": [
              "<Figure size 720x432 with 1 Axes>"
            ],
            "image/png": "[encoded data removed]"
          },
          "metadata": {}
        }
      ]
    },
    {
      "cell_type": "code",
      "source": [],
      "metadata": {
        "id": "nR5VDJfG-KE4"
      },
      "execution_count": null,
      "outputs": []
    },
    {
      "cell_type": "markdown",
      "source": [
        "#analysis LSTM"
      ],
      "metadata": {
        "id": "hplmOnntAwPp"
      }
    },
    {
      "cell_type": "code",
      "source": [
        "hist_df_ls = pd.DataFrame(history_lstm.history)\n",
        "hist_df_ls.to_csv('mse_lstm_loss.csv', index = False)"
      ],
      "metadata": {
        "id": "52UtzKOzAgvq"
      },
      "execution_count": null,
      "outputs": []
    },
    {
      "cell_type": "code",
      "source": [
        "final_lstm.load_weights(\"model_update_lstm.h5\")"
      ],
      "metadata": {
        "id": "H1ZEijq_ApWp"
      },
      "execution_count": null,
      "outputs": []
    },
    {
      "cell_type": "code",
      "source": [
        "test_predict_ls=final_lstm.predict(X_test)"
      ],
      "metadata": {
        "id": "VZbRFO51A16B"
      },
      "execution_count": null,
      "outputs": []
    },
    {
      "cell_type": "code",
      "source": [
        "time_ahead = 30\n",
        "new_index = list(range(training_size, training_size+time_ahead))\n",
        "\n",
        "df_p = {'x_val':list(new_index), 'y_val':list(test_predict_ls[:time_ahead])}\n",
        "df_t = {'x_val':list(new_index), 'y_val':list(ytest[:time_ahead])}\n",
        "\n",
        "df_p = pd.DataFrame(df_p)\n",
        "df_t = pd.DataFrame(df_t)\n",
        "df_p['y_val'] = df_p['y_val'].str.get(0)\n",
        "new_df = {'TimeActual': df_t['x_val'], 'PriceActual': df_t['y_val'], 'TimePredicted': df_p['x_val'], 'PricePredicted': df_p['y_val'] }\n",
        "new_data= pd.DataFrame(new_df)\n",
        "new_data.to_csv(f'Future_{time_ahead}_days_data_lstm.csv', index = False)\n",
        "\n",
        "plt.plot(df_t['x_val'], df_t['y_val'], label='Actual')\n",
        "plt.plot(df_p['x_val'], df_p['y_val'], label='Predicted')\n",
        "plt.legend()\n",
        "plt.xlabel('Days')\n",
        "plt.ylabel('Closing Price')\n",
        "plt.savefig(f'Future_{time_ahead}_days_data_lstm.png', bbox_inches =\"tight\", dpi = 720)\n",
        "plt.show()"
      ],
      "metadata": {
        "colab": {
          "base_uri": "https://localhost:8080/",
          "height": 285
        },
        "id": "uVQ1HXfBA2SB",
        "outputId": "f76d26db-d785-4dbe-a446-400157fc2cb4"
      },
      "execution_count": null,
      "outputs": [
        {
          "output_type": "display_data",
          "data": {
            "text/plain": [
              "<Figure size 792x288 with 1 Axes>"
            ],
            "image/png": "[encoded data removed]"
          },
          "metadata": {}
        }
      ]
    },
    {
      "cell_type": "code",
      "source": [
        "time_ahead = 100\n",
        "new_index = list(range(training_size, training_size+time_ahead))\n",
        "\n",
        "df_p = {'x_val':list(new_index), 'y_val':list(test_predict_ls[:time_ahead])}\n",
        "df_t = {'x_val':list(new_index), 'y_val':list(ytest[:time_ahead])}\n",
        "\n",
        "df_p = pd.DataFrame(df_p)\n",
        "df_t = pd.DataFrame(df_t)\n",
        "df_p['y_val'] = df_p['y_val'].str.get(0)\n",
        "new_df = {'TimeActual': df_t['x_val'], 'PriceActual': df_t['y_val'], 'TimePredicted': df_p['x_val'], 'PricePredicted': df_p['y_val'] }\n",
        "new_data= pd.DataFrame(new_df)\n",
        "new_data.to_csv(f'Future_{time_ahead}_days_data_lstm.csv', index = False)\n",
        "\n",
        "plt.plot(df_t['x_val'], df_t['y_val'], label='Actual')\n",
        "plt.plot(df_p['x_val'], df_p['y_val'], label='Predicted')\n",
        "plt.legend()\n",
        "plt.xlabel('Days')\n",
        "plt.ylabel('Closing Price')\n",
        "plt.savefig(f'Future_{time_ahead}_days_data_lstm.png', bbox_inches =\"tight\", dpi = 720)\n",
        "plt.show()"
      ],
      "metadata": {
        "colab": {
          "base_uri": "https://localhost:8080/",
          "height": 285
        },
        "id": "I9eJ72OKCOhr",
        "outputId": "691b2d9d-1240-4609-a2f7-388c7e2d84e3"
      },
      "execution_count": null,
      "outputs": [
        {
          "output_type": "display_data",
          "data": {
            "text/plain": [
              "<Figure size 792x288 with 1 Axes>"
            ],
            "image/png": "[encoded data removed]"
          },
          "metadata": {}
        }
      ]
    },
    {
      "cell_type": "markdown",
      "source": [
        "#LSTM CDF"
      ],
      "metadata": {
        "id": "3K8X4TlxCT0w"
      }
    },
    {
      "cell_type": "code",
      "source": [
        "train_predict_ls=final_lstm.predict(X_train)"
      ],
      "metadata": {
        "id": "XCueyNgmCV26"
      },
      "execution_count": null,
      "outputs": []
    },
    {
      "cell_type": "code",
      "source": [
        "import math\n",
        "from sklearn.metrics import mean_squared_error\n",
        "\n",
        "\n",
        "a_l = math.sqrt(mean_squared_error(y_train,train_predict_ls))\n",
        "print('train_error_lstm',a_l)"
      ],
      "metadata": {
        "colab": {
          "base_uri": "https://localhost:8080/"
        },
        "id": "4jSPr_2CBLmr",
        "outputId": "9b42cece-8d47-4288-ee98-9978a0ef7b79"
      },
      "execution_count": null,
      "outputs": [
        {
          "output_type": "stream",
          "name": "stdout",
          "text": [
            "train_error_lstm 0.016271098754598704\n"
          ]
        }
      ]
    },
    {
      "cell_type": "code",
      "source": [
        "all_l = math.sqrt(mean_squared_error(ytest,test_predict_ls))\n",
        "print(X_test.shape)\n",
        "print(test_predict_ls.shape)\n",
        "print('test_error_lstm',all_l)"
      ],
      "metadata": {
        "colab": {
          "base_uri": "https://localhost:8080/"
        },
        "id": "2yYneWa0CreD",
        "outputId": "9abf1577-caa5-40d3-81f1-5b7970549286"
      },
      "execution_count": null,
      "outputs": [
        {
          "output_type": "stream",
          "name": "stdout",
          "text": [
            "(1001, 60, 1)\n",
            "(1001, 1)\n",
            "test_error_lstm 0.013233456645250465\n"
          ]
        }
      ]
    },
    {
      "cell_type": "code",
      "source": [
        "x = (r2_score(y_train,train_predict_ls))\n",
        "print('train_error',x)"
      ],
      "metadata": {
        "colab": {
          "base_uri": "https://localhost:8080/"
        },
        "id": "TrdXk_PKO6hI",
        "outputId": "055837b7-0e1e-4d5e-eeea-34859caf2212"
      },
      "execution_count": null,
      "outputs": [
        {
          "output_type": "stream",
          "name": "stdout",
          "text": [
            "train_error 0.9930385734555109\n"
          ]
        }
      ]
    },
    {
      "cell_type": "code",
      "source": [
        "x = (r2_score(ytest,test_predict_ls))\n",
        "print('test_error',x)"
      ],
      "metadata": {
        "colab": {
          "base_uri": "https://localhost:8080/"
        },
        "id": "jHjrVR70O-xm",
        "outputId": "7df3d9d2-fffe-4ae1-ef3f-20e0551eb0e8"
      },
      "execution_count": null,
      "outputs": [
        {
          "output_type": "stream",
          "name": "stdout",
          "text": [
            "test_error 0.979426617038421\n"
          ]
        }
      ]
    },
    {
      "cell_type": "code",
      "source": [
        "from sklearn.metrics import mean_squared_log_error\n",
        "x = (mean_squared_log_error(y_train,train_predict_ls))\n",
        "print('train_error',x)\n",
        "x = (mean_squared_log_error(ytest,test_predict_ls))\n",
        "print('test_error',x)"
      ],
      "metadata": {
        "colab": {
          "base_uri": "https://localhost:8080/"
        },
        "id": "lvrewncgPZRH",
        "outputId": "4a18baa0-78fd-475c-c2ec-4e5312d06a28"
      },
      "execution_count": null,
      "outputs": [
        {
          "output_type": "stream",
          "name": "stdout",
          "text": [
            "train_error 0.00012608599929187194\n",
            "test_error 9.922443755945621e-05\n"
          ]
        }
      ]
    },
    {
      "cell_type": "code",
      "source": [
        "error_val1 = []\n",
        "m_val1 = []\n",
        "m = 200\n",
        "for i in range(test_predict_ls.shape[0]):\n",
        "  if m<test_predict_ls.shape[0]:\n",
        "    m_val1.append(m)\n",
        "    val = math.sqrt(mean_squared_error(ytest[:m],test_predict_ls[:m]))\n",
        "    error_val1.append(val)\n",
        "    m = m +200\n",
        "m_val1.append(test_predict.shape[0])\n",
        "error_val1.append(all)\n"
      ],
      "metadata": {
        "id": "0MXbSMdFCulq"
      },
      "execution_count": null,
      "outputs": []
    },
    {
      "cell_type": "code",
      "source": [
        "new_val1 = {'Test set split':m_val1, 'error':error_val1}\n",
        "error_test1 = pd.DataFrame(new_val1)\n",
        "error_test1"
      ],
      "metadata": {
        "colab": {
          "base_uri": "https://localhost:8080/",
          "height": 237
        },
        "id": "wBFPUPU3E-6E",
        "outputId": "540799da-9104-4697-c811-07a4d2a39cbf"
      },
      "execution_count": null,
      "outputs": [
        {
          "output_type": "execute_result",
          "data": {
            "text/plain": [
              "   Test set split     error\n",
              "0             200  0.018846\n",
              "1             400  0.015851\n",
              "2             600  0.013907\n",
              "3             800  0.013887\n",
              "4            1000  0.013240\n",
              "5            1001  0.982142"
            ],
            "text/html": [
              "\n",
              "  <div id=\"df-9425b32c-9723-4ecd-a4eb-8b7751dde3b5\">\n",
              "    <div class=\"colab-df-container\">\n",
              "      <div>\n",
              "<style scoped>\n",
              "    .dataframe tbody tr th:only-of-type {\n",
              "        vertical-align: middle;\n",
              "    }\n",
              "\n",
              "    .dataframe tbody tr th {\n",
              "        vertical-align: top;\n",
              "    }\n",
              "\n",
              "    .dataframe thead th {\n",
              "        text-align: right;\n",
              "    }\n",
              "</style>\n",
              "<table border=\"1\" class=\"dataframe\">\n",
              "  <thead>\n",
              "    <tr style=\"text-align: right;\">\n",
              "      <th></th>\n",
              "      <th>Test set split</th>\n",
              "      <th>error</th>\n",
              "    </tr>\n",
              "  </thead>\n",
              "  <tbody>\n",
              "    <tr>\n",
              "      <th>0</th>\n",
              "      <td>200</td>\n",
              "      <td>0.018846</td>\n",
              "    </tr>\n",
              "    <tr>\n",
              "      <th>1</th>\n",
              "      <td>400</td>\n",
              "      <td>0.015851</td>\n",
              "    </tr>\n",
              "    <tr>\n",
              "      <th>2</th>\n",
              "      <td>600</td>\n",
              "      <td>0.013907</td>\n",
              "    </tr>\n",
              "    <tr>\n",
              "      <th>3</th>\n",
              "      <td>800</td>\n",
              "      <td>0.013887</td>\n",
              "    </tr>\n",
              "    <tr>\n",
              "      <th>4</th>\n",
              "      <td>1000</td>\n",
              "      <td>0.013240</td>\n",
              "    </tr>\n",
              "    <tr>\n",
              "      <th>5</th>\n",
              "      <td>1001</td>\n",
              "      <td>0.982142</td>\n",
              "    </tr>\n",
              "  </tbody>\n",
              "</table>\n",
              "</div>\n",
              "      <button class=\"colab-df-convert\" onclick=\"convertToInteractive('df-9425b32c-9723-4ecd-a4eb-8b7751dde3b5')\"\n",
              "              title=\"Convert this dataframe to an interactive table.\"\n",
              "              style=\"display:none;\">\n",
              "        \n",
              "  <svg xmlns=\"http://www.w3.org/2000/svg\" height=\"24px\"viewBox=\"0 0 24 24\"\n",
              "       width=\"24px\">\n",
              "    <path d=\"M0 0h24v24H0V0z\" fill=\"none\"/>\n",
              "    <path d=\"M18.56 5.44l.94 2.06.94-2.06 2.06-.94-2.06-.94-.94-2.06-.94 2.06-2.06.94zm-11 1L8.5 8.5l.94-2.06 2.06-.94-2.06-.94L8.5 2.5l-.94 2.06-2.06.94zm10 10l.94 2.06.94-2.06 2.06-.94-2.06-.94-.94-2.06-.94 2.06-2.06.94z\"/><path d=\"M17.41 7.96l-1.37-1.37c-.4-.4-.92-.59-1.43-.59-.52 0-1.04.2-1.43.59L10.3 9.45l-7.72 7.72c-.78.78-.78 2.05 0 2.83L4 21.41c.39.39.9.59 1.41.59.51 0 1.02-.2 1.41-.59l7.78-7.78 2.81-2.81c.8-.78.8-2.07 0-2.86zM5.41 20L4 18.59l7.72-7.72 1.47 1.35L5.41 20z\"/>\n",
              "  </svg>\n",
              "      </button>\n",
              "      \n",
              "  <style>\n",
              "    .colab-df-container {\n",
              "      display:flex;\n",
              "      flex-wrap:wrap;\n",
              "      gap: 12px;\n",
              "    }\n",
              "\n",
              "    .colab-df-convert {\n",
              "      background-color: #E8F0FE;\n",
              "      border: none;\n",
              "      border-radius: 50%;\n",
              "      cursor: pointer;\n",
              "      display: none;\n",
              "      fill: #1967D2;\n",
              "      height: 32px;\n",
              "      padding: 0 0 0 0;\n",
              "      width: 32px;\n",
              "    }\n",
              "\n",
              "    .colab-df-convert:hover {\n",
              "      background-color: #E2EBFA;\n",
              "      box-shadow: 0px 1px 2px rgba(60, 64, 67, 0.3), 0px 1px 3px 1px rgba(60, 64, 67, 0.15);\n",
              "      fill: #174EA6;\n",
              "    }\n",
              "\n",
              "    [theme=dark] .colab-df-convert {\n",
              "      background-color: #3B4455;\n",
              "      fill: #D2E3FC;\n",
              "    }\n",
              "\n",
              "    [theme=dark] .colab-df-convert:hover {\n",
              "      background-color: #434B5C;\n",
              "      box-shadow: 0px 1px 3px 1px rgba(0, 0, 0, 0.15);\n",
              "      filter: drop-shadow(0px 1px 2px rgba(0, 0, 0, 0.3));\n",
              "      fill: #FFFFFF;\n",
              "    }\n",
              "  </style>\n",
              "\n",
              "      <script>\n",
              "        const buttonEl =\n",
              "          document.querySelector('#df-9425b32c-9723-4ecd-a4eb-8b7751dde3b5 button.colab-df-convert');\n",
              "        buttonEl.style.display =\n",
              "          google.colab.kernel.accessAllowed ? 'block' : 'none';\n",
              "\n",
              "        async function convertToInteractive(key) {\n",
              "          const element = document.querySelector('#df-9425b32c-9723-4ecd-a4eb-8b7751dde3b5');\n",
              "          const dataTable =\n",
              "            await google.colab.kernel.invokeFunction('convertToInteractive',\n",
              "                                                     [key], {});\n",
              "          if (!dataTable) return;\n",
              "\n",
              "          const docLinkHtml = 'Like what you see? Visit the ' +\n",
              "            '<a target=\"_blank\" href=https://colab.research.google.com/notebooks/data_table.ipynb>data table notebook</a>'\n",
              "            + ' to learn more about interactive tables.';\n",
              "          element.innerHTML = '';\n",
              "          dataTable['output_type'] = 'display_data';\n",
              "          await google.colab.output.renderOutput(dataTable, element);\n",
              "          const docLink = document.createElement('div');\n",
              "          docLink.innerHTML = docLinkHtml;\n",
              "          element.appendChild(docLink);\n",
              "        }\n",
              "      </script>\n",
              "    </div>\n",
              "  </div>\n",
              "  "
            ]
          },
          "metadata": {},
          "execution_count": 84
        }
      ]
    },
    {
      "cell_type": "code",
      "source": [
        "error_test.to_csv('rmse_test_split_error_lstm.csv', index = False)"
      ],
      "metadata": {
        "id": "bNrYtRrmFI_B"
      },
      "execution_count": null,
      "outputs": []
    },
    {
      "cell_type": "code",
      "source": [
        "error_list1 = []\n",
        "window_size = 20\n",
        "i1 = 0\n",
        "for i in range(X_test.shape[0]):\n",
        "  i2 = i1 + window_size\n",
        "  if i1<X_test.shape[0] and i2<X_test.shape[0]:\n",
        "    cdf_predict=final_lstm.predict(X_test[i1:i2])\n",
        "    val = math.sqrt(mean_squared_error(ytest[i1:i2],cdf_predict))\n",
        "    error_list1.append(val)\n",
        "    i1 = i2\n",
        "\n",
        "error_list1 = sorted(error_list1)"
      ],
      "metadata": {
        "id": "MVuCAbkmFSd2"
      },
      "execution_count": null,
      "outputs": []
    },
    {
      "cell_type": "code",
      "source": [
        "x1 = np.sort(error_list1)\n",
        "y1 = np.arange(len(x1))/float(len(x1))\n",
        "\n",
        "plt.plot(x1, y1, label='test')\n",
        "plt.ylabel('CDF')\n",
        "plt.xlabel('RMSE')\n",
        "plt.savefig('rmse_error_cdf_lstm.png')\n",
        "plt.show()"
      ],
      "metadata": {
        "colab": {
          "base_uri": "https://localhost:8080/",
          "height": 285
        },
        "id": "Bm3nWGEXC02D",
        "outputId": "a6c1cebf-2ab0-421e-de2a-35801e3b5da0"
      },
      "execution_count": null,
      "outputs": [
        {
          "output_type": "display_data",
          "data": {
            "text/plain": [
              "<Figure size 792x288 with 1 Axes>"
            ],
            "image/png": "[encoded data removed]"
          },
          "metadata": {}
        }
      ]
    },
    {
      "cell_type": "code",
      "source": [
        "error_name = 'root_mean_squared_error'\n",
        "data = {error_name: error_list, 'cdf':y}\n",
        "cdf1 = pd.DataFrame(data)\n",
        "cdf1.head()"
      ],
      "metadata": {
        "colab": {
          "base_uri": "https://localhost:8080/",
          "height": 206
        },
        "id": "AGuAS77zC3nB",
        "outputId": "82eb8550-c458-40a7-dbd0-58fd3aed6cb7"
      },
      "execution_count": null,
      "outputs": [
        {
          "output_type": "execute_result",
          "data": {
            "text/plain": [
              "   root_mean_squared_error   cdf\n",
              "0                 0.005444  0.00\n",
              "1                 0.005483  0.02\n",
              "2                 0.005676  0.04\n",
              "3                 0.005893  0.06\n",
              "4                 0.006161  0.08"
            ],
            "text/html": [
              "\n",
              "  <div id=\"df-61ae05f6-6343-49fb-ab54-262651c4a722\">\n",
              "    <div class=\"colab-df-container\">\n",
              "      <div>\n",
              "<style scoped>\n",
              "    .dataframe tbody tr th:only-of-type {\n",
              "        vertical-align: middle;\n",
              "    }\n",
              "\n",
              "    .dataframe tbody tr th {\n",
              "        vertical-align: top;\n",
              "    }\n",
              "\n",
              "    .dataframe thead th {\n",
              "        text-align: right;\n",
              "    }\n",
              "</style>\n",
              "<table border=\"1\" class=\"dataframe\">\n",
              "  <thead>\n",
              "    <tr style=\"text-align: right;\">\n",
              "      <th></th>\n",
              "      <th>root_mean_squared_error</th>\n",
              "      <th>cdf</th>\n",
              "    </tr>\n",
              "  </thead>\n",
              "  <tbody>\n",
              "    <tr>\n",
              "      <th>0</th>\n",
              "      <td>0.005444</td>\n",
              "      <td>0.00</td>\n",
              "    </tr>\n",
              "    <tr>\n",
              "      <th>1</th>\n",
              "      <td>0.005483</td>\n",
              "      <td>0.02</td>\n",
              "    </tr>\n",
              "    <tr>\n",
              "      <th>2</th>\n",
              "      <td>0.005676</td>\n",
              "      <td>0.04</td>\n",
              "    </tr>\n",
              "    <tr>\n",
              "      <th>3</th>\n",
              "      <td>0.005893</td>\n",
              "      <td>0.06</td>\n",
              "    </tr>\n",
              "    <tr>\n",
              "      <th>4</th>\n",
              "      <td>0.006161</td>\n",
              "      <td>0.08</td>\n",
              "    </tr>\n",
              "  </tbody>\n",
              "</table>\n",
              "</div>\n",
              "      <button class=\"colab-df-convert\" onclick=\"convertToInteractive('df-61ae05f6-6343-49fb-ab54-262651c4a722')\"\n",
              "              title=\"Convert this dataframe to an interactive table.\"\n",
              "              style=\"display:none;\">\n",
              "        \n",
              "  <svg xmlns=\"http://www.w3.org/2000/svg\" height=\"24px\"viewBox=\"0 0 24 24\"\n",
              "       width=\"24px\">\n",
              "    <path d=\"M0 0h24v24H0V0z\" fill=\"none\"/>\n",
              "    <path d=\"M18.56 5.44l.94 2.06.94-2.06 2.06-.94-2.06-.94-.94-2.06-.94 2.06-2.06.94zm-11 1L8.5 8.5l.94-2.06 2.06-.94-2.06-.94L8.5 2.5l-.94 2.06-2.06.94zm10 10l.94 2.06.94-2.06 2.06-.94-2.06-.94-.94-2.06-.94 2.06-2.06.94z\"/><path d=\"M17.41 7.96l-1.37-1.37c-.4-.4-.92-.59-1.43-.59-.52 0-1.04.2-1.43.59L10.3 9.45l-7.72 7.72c-.78.78-.78 2.05 0 2.83L4 21.41c.39.39.9.59 1.41.59.51 0 1.02-.2 1.41-.59l7.78-7.78 2.81-2.81c.8-.78.8-2.07 0-2.86zM5.41 20L4 18.59l7.72-7.72 1.47 1.35L5.41 20z\"/>\n",
              "  </svg>\n",
              "      </button>\n",
              "      \n",
              "  <style>\n",
              "    .colab-df-container {\n",
              "      display:flex;\n",
              "      flex-wrap:wrap;\n",
              "      gap: 12px;\n",
              "    }\n",
              "\n",
              "    .colab-df-convert {\n",
              "      background-color: #E8F0FE;\n",
              "      border: none;\n",
              "      border-radius: 50%;\n",
              "      cursor: pointer;\n",
              "      display: none;\n",
              "      fill: #1967D2;\n",
              "      height: 32px;\n",
              "      padding: 0 0 0 0;\n",
              "      width: 32px;\n",
              "    }\n",
              "\n",
              "    .colab-df-convert:hover {\n",
              "      background-color: #E2EBFA;\n",
              "      box-shadow: 0px 1px 2px rgba(60, 64, 67, 0.3), 0px 1px 3px 1px rgba(60, 64, 67, 0.15);\n",
              "      fill: #174EA6;\n",
              "    }\n",
              "\n",
              "    [theme=dark] .colab-df-convert {\n",
              "      background-color: #3B4455;\n",
              "      fill: #D2E3FC;\n",
              "    }\n",
              "\n",
              "    [theme=dark] .colab-df-convert:hover {\n",
              "      background-color: #434B5C;\n",
              "      box-shadow: 0px 1px 3px 1px rgba(0, 0, 0, 0.15);\n",
              "      filter: drop-shadow(0px 1px 2px rgba(0, 0, 0, 0.3));\n",
              "      fill: #FFFFFF;\n",
              "    }\n",
              "  </style>\n",
              "\n",
              "      <script>\n",
              "        const buttonEl =\n",
              "          document.querySelector('#df-61ae05f6-6343-49fb-ab54-262651c4a722 button.colab-df-convert');\n",
              "        buttonEl.style.display =\n",
              "          google.colab.kernel.accessAllowed ? 'block' : 'none';\n",
              "\n",
              "        async function convertToInteractive(key) {\n",
              "          const element = document.querySelector('#df-61ae05f6-6343-49fb-ab54-262651c4a722');\n",
              "          const dataTable =\n",
              "            await google.colab.kernel.invokeFunction('convertToInteractive',\n",
              "                                                     [key], {});\n",
              "          if (!dataTable) return;\n",
              "\n",
              "          const docLinkHtml = 'Like what you see? Visit the ' +\n",
              "            '<a target=\"_blank\" href=https://colab.research.google.com/notebooks/data_table.ipynb>data table notebook</a>'\n",
              "            + ' to learn more about interactive tables.';\n",
              "          element.innerHTML = '';\n",
              "          dataTable['output_type'] = 'display_data';\n",
              "          await google.colab.output.renderOutput(dataTable, element);\n",
              "          const docLink = document.createElement('div');\n",
              "          docLink.innerHTML = docLinkHtml;\n",
              "          element.appendChild(docLink);\n",
              "        }\n",
              "      </script>\n",
              "    </div>\n",
              "  </div>\n",
              "  "
            ]
          },
          "metadata": {},
          "execution_count": 89
        }
      ]
    },
    {
      "cell_type": "code",
      "source": [
        "plt.plot(x, y, label='our model')\n",
        "plt.plot(x1, y1, label='BiLSTM')\n",
        "plt.ylabel('CDF')\n",
        "plt.xlabel('RMSE')\n",
        "plt.legend(['our model', 'BiLSTM'], loc='upper right')\n",
        "plt.savefig('rmse_error_cdf_all.png')\n",
        "plt.show()"
      ],
      "metadata": {
        "colab": {
          "base_uri": "https://localhost:8080/",
          "height": 285
        },
        "id": "qg7BRhgjEmGf",
        "outputId": "b950e3a7-98fd-4ed1-dbeb-6a2dd42bede5"
      },
      "execution_count": null,
      "outputs": [
        {
          "output_type": "display_data",
          "data": {
            "text/plain": [
              "<Figure size 792x288 with 1 Axes>"
            ],
            "image/png": "[encoded data removed]"
          },
          "metadata": {}
        }
      ]
    }
  ]
}